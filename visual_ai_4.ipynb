{
 "cells": [
  {
   "cell_type": "code",
   "execution_count": 1,
   "metadata": {},
   "outputs": [
    {
     "name": "stdout",
     "output_type": "stream",
     "text": [
      "hello\n"
     ]
    }
   ],
   "source": [
    "print(\"hello\")"
   ]
  },
  {
   "cell_type": "code",
   "execution_count": 1,
   "metadata": {},
   "outputs": [
    {
     "name": "stdout",
     "output_type": "stream",
     "text": [
      "Requirement already satisfied: opencv-python in c:\\users\\jamos\\anaconda3\\lib\\site-packages (4.8.0.76)Note: you may need to restart the kernel to use updated packages.\n",
      "\n",
      "Requirement already satisfied: numpy>=1.21.2 in c:\\users\\jamos\\anaconda3\\lib\\site-packages (from opencv-python) (1.24.3)\n"
     ]
    }
   ],
   "source": [
    "pip  install opencv-python"
   ]
  },
  {
   "cell_type": "code",
   "execution_count": 3,
   "metadata": {},
   "outputs": [
    {
     "ename": "AttributeError",
     "evalue": "module 'cv2' has no attribute 'destroyAllWindow'",
     "output_type": "error",
     "traceback": [
      "\u001b[1;31m---------------------------------------------------------------------------\u001b[0m",
      "\u001b[1;31mAttributeError\u001b[0m                            Traceback (most recent call last)",
      "\u001b[1;32mc:\\Users\\jamos\\OneDrive - UOU\\Git hub - UOU\\Cheese_house-1\\visual_ai_4.ipynb 셀 3\u001b[0m line \u001b[0;36m1\n\u001b[0;32m      <a href='vscode-notebook-cell:/c%3A/Users/jamos/OneDrive%20-%20UOU/Git%20hub%20-%20UOU/Cheese_house-1/visual_ai_4.ipynb#W4sZmlsZQ%3D%3D?line=7'>8</a>\u001b[0m cv2\u001b[39m.\u001b[39mimshow(\u001b[39m\"\u001b[39m\u001b[39mWindow Title\u001b[39m\u001b[39m\"\u001b[39m, image)\n\u001b[0;32m      <a href='vscode-notebook-cell:/c%3A/Users/jamos/OneDrive%20-%20UOU/Git%20hub%20-%20UOU/Cheese_house-1/visual_ai_4.ipynb#W4sZmlsZQ%3D%3D?line=8'>9</a>\u001b[0m cv2\u001b[39m.\u001b[39mwaitKey(\u001b[39m0\u001b[39m)\n\u001b[1;32m---> <a href='vscode-notebook-cell:/c%3A/Users/jamos/OneDrive%20-%20UOU/Git%20hub%20-%20UOU/Cheese_house-1/visual_ai_4.ipynb#W4sZmlsZQ%3D%3D?line=9'>10</a>\u001b[0m cv2\u001b[39m.\u001b[39mdestroyAllWindow()\n",
      "\u001b[1;31mAttributeError\u001b[0m: module 'cv2' has no attribute 'destroyAllWindow'"
     ]
    }
   ],
   "source": [
    "import numpy as np\n",
    "\n",
    "import cv2\n",
    "\n",
    "image = np.zeros((300, 400), dtype = np.uint8)\n",
    "image.fill(200)\n",
    "\n",
    "cv2.imshow(\"Window Title\", image)\n",
    "cv2.waitKey(0)\n",
    "cv2.destroyAllWindow()"
   ]
  },
  {
   "cell_type": "code",
   "execution_count": null,
   "metadata": {},
   "outputs": [],
   "source": []
  }
 ],
 "metadata": {
  "kernelspec": {
   "display_name": "base",
   "language": "python",
   "name": "python3"
  },
  "language_info": {
   "codemirror_mode": {
    "name": "ipython",
    "version": 3
   },
   "file_extension": ".py",
   "mimetype": "text/x-python",
   "name": "python",
   "nbconvert_exporter": "python",
   "pygments_lexer": "ipython3",
   "version": "3.11.3"
  },
  "orig_nbformat": 4
 },
 "nbformat": 4,
 "nbformat_minor": 2
}
