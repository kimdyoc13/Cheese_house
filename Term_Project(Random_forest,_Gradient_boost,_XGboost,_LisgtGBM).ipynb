{
  "nbformat": 4,
  "nbformat_minor": 0,
  "metadata": {
    "colab": {
      "provenance": []
    },
    "kernelspec": {
      "name": "python3",
      "display_name": "Python 3"
    },
    "language_info": {
      "name": "python"
    }
  },
  "cells": [
    {
      "cell_type": "markdown",
      "source": [
        "#Goal"
      ],
      "metadata": {
        "id": "LMlVLdIcmubd"
      }
    },
    {
      "cell_type": "markdown",
      "source": [
        "#Project\n",
        "- **서울 특별시 공유 자전거 대여 수요를 예측하는 모델**"
      ],
      "metadata": {
        "id": "d8DUwLjomxoD"
      }
    },
    {
      "cell_type": "markdown",
      "source": [
        "![프로젝트 사](https://seoulsolution.kr/sites/default/files/images/%EB%94%B0%EB%A6%89%EC%9D%B41.JPG)"
      ],
      "metadata": {
        "id": "KnASvUiAKusJ"
      }
    },
    {
      "cell_type": "markdown",
      "source": [
        "### ENV"
      ],
      "metadata": {
        "id": "nabHjsJ_GynV"
      }
    },
    {
      "cell_type": "code",
      "source": [
        "from google.colab import drive\n",
        "import numpy as np\n",
        "import pandas as pd\n",
        "import xgboost as xgb\n",
        "import numpy as np\n",
        "from sklearn.metrics import mean_squared_error\n",
        "from sklearn.model_selection import train_test_split\n",
        "import pandas as pd\n",
        "import matplotlib.pyplot as plt\n",
        "from sklearn.ensemble import RandomForestClassifier\n",
        "from sklearn.datasets import load_iris\n",
        "from sklearn.model_selection import train_test_split\n",
        "from sklearn.metrics import accuracy_score\n",
        "from sklearn.ensemble import RandomForestRegressor, GradientBoostingRegressor\n",
        "from sklearn.metrics import mean_squared_error\n",
        "import lightgbm as lgb\n"
      ],
      "metadata": {
        "id": "IqwIYfIyH9KR"
      },
      "execution_count": 1,
      "outputs": []
    },
    {
      "cell_type": "code",
      "source": [
        "# !pip install dtale"
      ],
      "metadata": {
        "id": "-kgPu3NIIrUM"
      },
      "execution_count": 2,
      "outputs": []
    },
    {
      "cell_type": "code",
      "source": [
        "# import dtale\n",
        "# import dtale.app as dtale_app"
      ],
      "metadata": {
        "id": "NO4rJ_q-I4Bx"
      },
      "execution_count": 3,
      "outputs": []
    },
    {
      "cell_type": "markdown",
      "source": [
        "### Data Dictionary\n",
        "| 변수명 | 정의 |  |  |  |\n",
        "| :-: | :-: | :-: | :-: | :-: |\n",
        "| ID | 샘플 ID |  |  |  |\n",
        "| Hour | 당일 시간대(0, 1, 2 .... , 23) |  |  |  |\n",
        "| Temperature | 기온(°C) |  |  |  |\n",
        "| Humidity | 습도(%) |  |  |  |\n",
        "| Wind speed | 풍속(m/s) |  |  |  |\n",
        "| Visibility | 가시거리(10m) |  |  |  |\n",
        "| Dew point temperature | 이슬점(상대습도 관련)(°C) |  |  |  |\n",
        "| Solar Radiation | 태양복사지수(MJ/㎡) |  |  |  |\n",
        "| Rainfall | 강수량(mm) |  |  |  |\n",
        "| Snowfall | 강설량(cm) |  |  |  |\n",
        "| Seasons_Autumn | 계절 더미 변수_가을(0: 가을 아님, 1: 가을) |  |  |  |\n",
        "| Seasons_Spring |  계절 더미 변수_봄(0: 봄 아님, 1: 봄) |  |  |  |\n",
        "| Seasons_Summer | 계절 더미 변수_여름(0: 여름 아님, 1: 여름) |  |  |  |\n",
        "| Seasons_Winter | 계절 더미 변수_겨울(0: 겨울 아님, 1: 겨울) |  |  |  |\n",
        "| Holiday | 휴일 여부(0: 휴일 아님, 1: 휴일) |  |  |  |\n",
        "| Functional Hours | 운영 시간 여부(0: 운영 시간 아님, 1: 운영 시간) |  |  |  |\n"
      ],
      "metadata": {
        "id": "vRZ951eNJiRk"
      }
    },
    {
      "cell_type": "markdown",
      "source": [
        "### Data Load"
      ],
      "metadata": {
        "id": "iSruwhAmHAyG"
      }
    },
    {
      "cell_type": "code",
      "source": [
        "# Google Drive 마운트\n",
        "drive.mount('/content/drive')"
      ],
      "metadata": {
        "colab": {
          "base_uri": "https://localhost:8080/"
        },
        "id": "tq8w_VsgIXpu",
        "outputId": "da5346bd-08a2-4ec7-e08c-86c45c0f73d3"
      },
      "execution_count": 4,
      "outputs": [
        {
          "output_type": "stream",
          "name": "stdout",
          "text": [
            "Mounted at /content/drive\n"
          ]
        }
      ]
    },
    {
      "cell_type": "code",
      "source": [
        "# 구글 드라이브 파일의 공유 링크(URL)\n",
        "url_x_train = '/content/drive/MyDrive/Colab Notebooks/머신러닝/Term Project/data/x_train.csv'\n",
        "url_y_train = '/content/drive/MyDrive/Colab Notebooks/머신러닝/Term Project/data/y_train.csv'\n",
        "url_x_test = '/content/drive/MyDrive/Colab Notebooks/머신러닝/Term Project/data/x_test.csv'\n",
        "url_sample_sub = '/content/drive/MyDrive/Colab Notebooks/머신러닝/Term Project/data/sample_submission.csv'\n",
        "# CSV 파일을 데이터프레임으로 불러오기\n",
        "x_train = pd.read_csv(url_x_train)\n",
        "y_train = pd.read_csv(url_y_train)\n",
        "x_test = pd.read_csv(url_x_test)\n",
        "sample_submission = pd.read_csv(url_sample_sub)"
      ],
      "metadata": {
        "id": "uCxGkXP0I-E9"
      },
      "execution_count": 5,
      "outputs": []
    },
    {
      "cell_type": "markdown",
      "source": [
        "### 분포 확인 시각화"
      ],
      "metadata": {
        "id": "FXIbxBjEHn7j"
      }
    },
    {
      "cell_type": "code",
      "source": [
        "x_train.shape"
      ],
      "metadata": {
        "colab": {
          "base_uri": "https://localhost:8080/"
        },
        "id": "6DHaipCOLukj",
        "outputId": "3bba4c02-c7ee-4f3b-b822-56faa302d5f6"
      },
      "execution_count": 6,
      "outputs": [
        {
          "output_type": "execute_result",
          "data": {
            "text/plain": [
              "(7008, 16)"
            ]
          },
          "metadata": {},
          "execution_count": 6
        }
      ]
    },
    {
      "cell_type": "code",
      "source": [
        "x_train"
      ],
      "metadata": {
        "colab": {
          "base_uri": "https://localhost:8080/",
          "height": 505
        },
        "id": "xHaRwHe8bAOZ",
        "outputId": "ad9b5e7e-c643-478e-bfda-918cbfbc575a"
      },
      "execution_count": 7,
      "outputs": [
        {
          "output_type": "execute_result",
          "data": {
            "text/plain": [
              "        ID  Hour  Temperature  Humidity  Wind speed  Visibility  \\\n",
              "0        0     6        -15.7        29         2.5        2000   \n",
              "1        1    15          6.8        50         4.1         660   \n",
              "2        2     6          1.1        66         0.9        1550   \n",
              "3        3    11          6.0        66         0.9         573   \n",
              "4        4    17         18.2        43         2.3        1925   \n",
              "...    ...   ...          ...       ...         ...         ...   \n",
              "7003  7003    18         -7.8        32         4.5        2000   \n",
              "7004  7004     0         25.9        76         1.3         984   \n",
              "7005  7005     5         18.1        73         0.5        1182   \n",
              "7006  7006     7         14.1        69         1.1        1692   \n",
              "7007  7007    18         33.7        62         3.2        1082   \n",
              "\n",
              "      Dew point temperature  Solar Radiation  Rainfall  Snowfall  \\\n",
              "0                     -29.7             0.00       0.0       0.9   \n",
              "1                      -2.9             0.56       0.0       0.0   \n",
              "2                      -4.5             0.00       0.0       0.0   \n",
              "3                       0.1             1.37       0.0       2.3   \n",
              "4                       5.4             0.68       0.0       0.0   \n",
              "...                     ...              ...       ...       ...   \n",
              "7003                  -21.6             0.02       0.0       0.0   \n",
              "7004                   21.3             0.00       0.0       0.0   \n",
              "7005                   13.1             0.00       0.0       0.0   \n",
              "7006                    8.4             0.00       0.0       0.0   \n",
              "7007                   25.3             0.87       0.0       0.0   \n",
              "\n",
              "      Seasons_Autumn  Seasons_Spring  Seasons_Summer  Seasons_Winter  Holiday  \\\n",
              "0                0.0             0.0             0.0             1.0      0.0   \n",
              "1                0.0             1.0             0.0             0.0      0.0   \n",
              "2                0.0             0.0             0.0             1.0      0.0   \n",
              "3                1.0             0.0             0.0             0.0      0.0   \n",
              "4                1.0             0.0             0.0             0.0      0.0   \n",
              "...              ...             ...             ...             ...      ...   \n",
              "7003             0.0             0.0             0.0             1.0      0.0   \n",
              "7004             0.0             0.0             1.0             0.0      0.0   \n",
              "7005             0.0             0.0             1.0             0.0      0.0   \n",
              "7006             0.0             1.0             0.0             0.0      0.0   \n",
              "7007             0.0             0.0             1.0             0.0      0.0   \n",
              "\n",
              "      Functional Hours  \n",
              "0                  1.0  \n",
              "1                  1.0  \n",
              "2                  1.0  \n",
              "3                  1.0  \n",
              "4                  1.0  \n",
              "...                ...  \n",
              "7003               1.0  \n",
              "7004               1.0  \n",
              "7005               1.0  \n",
              "7006               1.0  \n",
              "7007               1.0  \n",
              "\n",
              "[7008 rows x 16 columns]"
            ],
            "text/html": [
              "\n",
              "  <div id=\"df-22399fb6-9832-4298-be4c-c72176ba01a9\">\n",
              "    <div class=\"colab-df-container\">\n",
              "      <div>\n",
              "<style scoped>\n",
              "    .dataframe tbody tr th:only-of-type {\n",
              "        vertical-align: middle;\n",
              "    }\n",
              "\n",
              "    .dataframe tbody tr th {\n",
              "        vertical-align: top;\n",
              "    }\n",
              "\n",
              "    .dataframe thead th {\n",
              "        text-align: right;\n",
              "    }\n",
              "</style>\n",
              "<table border=\"1\" class=\"dataframe\">\n",
              "  <thead>\n",
              "    <tr style=\"text-align: right;\">\n",
              "      <th></th>\n",
              "      <th>ID</th>\n",
              "      <th>Hour</th>\n",
              "      <th>Temperature</th>\n",
              "      <th>Humidity</th>\n",
              "      <th>Wind speed</th>\n",
              "      <th>Visibility</th>\n",
              "      <th>Dew point temperature</th>\n",
              "      <th>Solar Radiation</th>\n",
              "      <th>Rainfall</th>\n",
              "      <th>Snowfall</th>\n",
              "      <th>Seasons_Autumn</th>\n",
              "      <th>Seasons_Spring</th>\n",
              "      <th>Seasons_Summer</th>\n",
              "      <th>Seasons_Winter</th>\n",
              "      <th>Holiday</th>\n",
              "      <th>Functional Hours</th>\n",
              "    </tr>\n",
              "  </thead>\n",
              "  <tbody>\n",
              "    <tr>\n",
              "      <th>0</th>\n",
              "      <td>0</td>\n",
              "      <td>6</td>\n",
              "      <td>-15.7</td>\n",
              "      <td>29</td>\n",
              "      <td>2.5</td>\n",
              "      <td>2000</td>\n",
              "      <td>-29.7</td>\n",
              "      <td>0.00</td>\n",
              "      <td>0.0</td>\n",
              "      <td>0.9</td>\n",
              "      <td>0.0</td>\n",
              "      <td>0.0</td>\n",
              "      <td>0.0</td>\n",
              "      <td>1.0</td>\n",
              "      <td>0.0</td>\n",
              "      <td>1.0</td>\n",
              "    </tr>\n",
              "    <tr>\n",
              "      <th>1</th>\n",
              "      <td>1</td>\n",
              "      <td>15</td>\n",
              "      <td>6.8</td>\n",
              "      <td>50</td>\n",
              "      <td>4.1</td>\n",
              "      <td>660</td>\n",
              "      <td>-2.9</td>\n",
              "      <td>0.56</td>\n",
              "      <td>0.0</td>\n",
              "      <td>0.0</td>\n",
              "      <td>0.0</td>\n",
              "      <td>1.0</td>\n",
              "      <td>0.0</td>\n",
              "      <td>0.0</td>\n",
              "      <td>0.0</td>\n",
              "      <td>1.0</td>\n",
              "    </tr>\n",
              "    <tr>\n",
              "      <th>2</th>\n",
              "      <td>2</td>\n",
              "      <td>6</td>\n",
              "      <td>1.1</td>\n",
              "      <td>66</td>\n",
              "      <td>0.9</td>\n",
              "      <td>1550</td>\n",
              "      <td>-4.5</td>\n",
              "      <td>0.00</td>\n",
              "      <td>0.0</td>\n",
              "      <td>0.0</td>\n",
              "      <td>0.0</td>\n",
              "      <td>0.0</td>\n",
              "      <td>0.0</td>\n",
              "      <td>1.0</td>\n",
              "      <td>0.0</td>\n",
              "      <td>1.0</td>\n",
              "    </tr>\n",
              "    <tr>\n",
              "      <th>3</th>\n",
              "      <td>3</td>\n",
              "      <td>11</td>\n",
              "      <td>6.0</td>\n",
              "      <td>66</td>\n",
              "      <td>0.9</td>\n",
              "      <td>573</td>\n",
              "      <td>0.1</td>\n",
              "      <td>1.37</td>\n",
              "      <td>0.0</td>\n",
              "      <td>2.3</td>\n",
              "      <td>1.0</td>\n",
              "      <td>0.0</td>\n",
              "      <td>0.0</td>\n",
              "      <td>0.0</td>\n",
              "      <td>0.0</td>\n",
              "      <td>1.0</td>\n",
              "    </tr>\n",
              "    <tr>\n",
              "      <th>4</th>\n",
              "      <td>4</td>\n",
              "      <td>17</td>\n",
              "      <td>18.2</td>\n",
              "      <td>43</td>\n",
              "      <td>2.3</td>\n",
              "      <td>1925</td>\n",
              "      <td>5.4</td>\n",
              "      <td>0.68</td>\n",
              "      <td>0.0</td>\n",
              "      <td>0.0</td>\n",
              "      <td>1.0</td>\n",
              "      <td>0.0</td>\n",
              "      <td>0.0</td>\n",
              "      <td>0.0</td>\n",
              "      <td>0.0</td>\n",
              "      <td>1.0</td>\n",
              "    </tr>\n",
              "    <tr>\n",
              "      <th>...</th>\n",
              "      <td>...</td>\n",
              "      <td>...</td>\n",
              "      <td>...</td>\n",
              "      <td>...</td>\n",
              "      <td>...</td>\n",
              "      <td>...</td>\n",
              "      <td>...</td>\n",
              "      <td>...</td>\n",
              "      <td>...</td>\n",
              "      <td>...</td>\n",
              "      <td>...</td>\n",
              "      <td>...</td>\n",
              "      <td>...</td>\n",
              "      <td>...</td>\n",
              "      <td>...</td>\n",
              "      <td>...</td>\n",
              "    </tr>\n",
              "    <tr>\n",
              "      <th>7003</th>\n",
              "      <td>7003</td>\n",
              "      <td>18</td>\n",
              "      <td>-7.8</td>\n",
              "      <td>32</td>\n",
              "      <td>4.5</td>\n",
              "      <td>2000</td>\n",
              "      <td>-21.6</td>\n",
              "      <td>0.02</td>\n",
              "      <td>0.0</td>\n",
              "      <td>0.0</td>\n",
              "      <td>0.0</td>\n",
              "      <td>0.0</td>\n",
              "      <td>0.0</td>\n",
              "      <td>1.0</td>\n",
              "      <td>0.0</td>\n",
              "      <td>1.0</td>\n",
              "    </tr>\n",
              "    <tr>\n",
              "      <th>7004</th>\n",
              "      <td>7004</td>\n",
              "      <td>0</td>\n",
              "      <td>25.9</td>\n",
              "      <td>76</td>\n",
              "      <td>1.3</td>\n",
              "      <td>984</td>\n",
              "      <td>21.3</td>\n",
              "      <td>0.00</td>\n",
              "      <td>0.0</td>\n",
              "      <td>0.0</td>\n",
              "      <td>0.0</td>\n",
              "      <td>0.0</td>\n",
              "      <td>1.0</td>\n",
              "      <td>0.0</td>\n",
              "      <td>0.0</td>\n",
              "      <td>1.0</td>\n",
              "    </tr>\n",
              "    <tr>\n",
              "      <th>7005</th>\n",
              "      <td>7005</td>\n",
              "      <td>5</td>\n",
              "      <td>18.1</td>\n",
              "      <td>73</td>\n",
              "      <td>0.5</td>\n",
              "      <td>1182</td>\n",
              "      <td>13.1</td>\n",
              "      <td>0.00</td>\n",
              "      <td>0.0</td>\n",
              "      <td>0.0</td>\n",
              "      <td>0.0</td>\n",
              "      <td>0.0</td>\n",
              "      <td>1.0</td>\n",
              "      <td>0.0</td>\n",
              "      <td>0.0</td>\n",
              "      <td>1.0</td>\n",
              "    </tr>\n",
              "    <tr>\n",
              "      <th>7006</th>\n",
              "      <td>7006</td>\n",
              "      <td>7</td>\n",
              "      <td>14.1</td>\n",
              "      <td>69</td>\n",
              "      <td>1.1</td>\n",
              "      <td>1692</td>\n",
              "      <td>8.4</td>\n",
              "      <td>0.00</td>\n",
              "      <td>0.0</td>\n",
              "      <td>0.0</td>\n",
              "      <td>0.0</td>\n",
              "      <td>1.0</td>\n",
              "      <td>0.0</td>\n",
              "      <td>0.0</td>\n",
              "      <td>0.0</td>\n",
              "      <td>1.0</td>\n",
              "    </tr>\n",
              "    <tr>\n",
              "      <th>7007</th>\n",
              "      <td>7007</td>\n",
              "      <td>18</td>\n",
              "      <td>33.7</td>\n",
              "      <td>62</td>\n",
              "      <td>3.2</td>\n",
              "      <td>1082</td>\n",
              "      <td>25.3</td>\n",
              "      <td>0.87</td>\n",
              "      <td>0.0</td>\n",
              "      <td>0.0</td>\n",
              "      <td>0.0</td>\n",
              "      <td>0.0</td>\n",
              "      <td>1.0</td>\n",
              "      <td>0.0</td>\n",
              "      <td>0.0</td>\n",
              "      <td>1.0</td>\n",
              "    </tr>\n",
              "  </tbody>\n",
              "</table>\n",
              "<p>7008 rows × 16 columns</p>\n",
              "</div>\n",
              "      <button class=\"colab-df-convert\" onclick=\"convertToInteractive('df-22399fb6-9832-4298-be4c-c72176ba01a9')\"\n",
              "              title=\"Convert this dataframe to an interactive table.\"\n",
              "              style=\"display:none;\">\n",
              "        \n",
              "  <svg xmlns=\"http://www.w3.org/2000/svg\" height=\"24px\"viewBox=\"0 0 24 24\"\n",
              "       width=\"24px\">\n",
              "    <path d=\"M0 0h24v24H0V0z\" fill=\"none\"/>\n",
              "    <path d=\"M18.56 5.44l.94 2.06.94-2.06 2.06-.94-2.06-.94-.94-2.06-.94 2.06-2.06.94zm-11 1L8.5 8.5l.94-2.06 2.06-.94-2.06-.94L8.5 2.5l-.94 2.06-2.06.94zm10 10l.94 2.06.94-2.06 2.06-.94-2.06-.94-.94-2.06-.94 2.06-2.06.94z\"/><path d=\"M17.41 7.96l-1.37-1.37c-.4-.4-.92-.59-1.43-.59-.52 0-1.04.2-1.43.59L10.3 9.45l-7.72 7.72c-.78.78-.78 2.05 0 2.83L4 21.41c.39.39.9.59 1.41.59.51 0 1.02-.2 1.41-.59l7.78-7.78 2.81-2.81c.8-.78.8-2.07 0-2.86zM5.41 20L4 18.59l7.72-7.72 1.47 1.35L5.41 20z\"/>\n",
              "  </svg>\n",
              "      </button>\n",
              "      \n",
              "  <style>\n",
              "    .colab-df-container {\n",
              "      display:flex;\n",
              "      flex-wrap:wrap;\n",
              "      gap: 12px;\n",
              "    }\n",
              "\n",
              "    .colab-df-convert {\n",
              "      background-color: #E8F0FE;\n",
              "      border: none;\n",
              "      border-radius: 50%;\n",
              "      cursor: pointer;\n",
              "      display: none;\n",
              "      fill: #1967D2;\n",
              "      height: 32px;\n",
              "      padding: 0 0 0 0;\n",
              "      width: 32px;\n",
              "    }\n",
              "\n",
              "    .colab-df-convert:hover {\n",
              "      background-color: #E2EBFA;\n",
              "      box-shadow: 0px 1px 2px rgba(60, 64, 67, 0.3), 0px 1px 3px 1px rgba(60, 64, 67, 0.15);\n",
              "      fill: #174EA6;\n",
              "    }\n",
              "\n",
              "    [theme=dark] .colab-df-convert {\n",
              "      background-color: #3B4455;\n",
              "      fill: #D2E3FC;\n",
              "    }\n",
              "\n",
              "    [theme=dark] .colab-df-convert:hover {\n",
              "      background-color: #434B5C;\n",
              "      box-shadow: 0px 1px 3px 1px rgba(0, 0, 0, 0.15);\n",
              "      filter: drop-shadow(0px 1px 2px rgba(0, 0, 0, 0.3));\n",
              "      fill: #FFFFFF;\n",
              "    }\n",
              "  </style>\n",
              "\n",
              "      <script>\n",
              "        const buttonEl =\n",
              "          document.querySelector('#df-22399fb6-9832-4298-be4c-c72176ba01a9 button.colab-df-convert');\n",
              "        buttonEl.style.display =\n",
              "          google.colab.kernel.accessAllowed ? 'block' : 'none';\n",
              "\n",
              "        async function convertToInteractive(key) {\n",
              "          const element = document.querySelector('#df-22399fb6-9832-4298-be4c-c72176ba01a9');\n",
              "          const dataTable =\n",
              "            await google.colab.kernel.invokeFunction('convertToInteractive',\n",
              "                                                     [key], {});\n",
              "          if (!dataTable) return;\n",
              "\n",
              "          const docLinkHtml = 'Like what you see? Visit the ' +\n",
              "            '<a target=\"_blank\" href=https://colab.research.google.com/notebooks/data_table.ipynb>data table notebook</a>'\n",
              "            + ' to learn more about interactive tables.';\n",
              "          element.innerHTML = '';\n",
              "          dataTable['output_type'] = 'display_data';\n",
              "          await google.colab.output.renderOutput(dataTable, element);\n",
              "          const docLink = document.createElement('div');\n",
              "          docLink.innerHTML = docLinkHtml;\n",
              "          element.appendChild(docLink);\n",
              "        }\n",
              "      </script>\n",
              "    </div>\n",
              "  </div>\n",
              "  "
            ]
          },
          "metadata": {},
          "execution_count": 7
        }
      ]
    },
    {
      "cell_type": "code",
      "source": [
        "y_train.shape"
      ],
      "metadata": {
        "colab": {
          "base_uri": "https://localhost:8080/"
        },
        "id": "7IwQ9lgJLaP1",
        "outputId": "2787f9af-323f-42bc-a667-a371e3a2362c"
      },
      "execution_count": 8,
      "outputs": [
        {
          "output_type": "execute_result",
          "data": {
            "text/plain": [
              "(7008, 2)"
            ]
          },
          "metadata": {},
          "execution_count": 8
        }
      ]
    },
    {
      "cell_type": "code",
      "source": [
        "y_train"
      ],
      "metadata": {
        "colab": {
          "base_uri": "https://localhost:8080/",
          "height": 423
        },
        "id": "sYuGwKq-Lxnj",
        "outputId": "95e2e531-e3dd-40bb-ba37-a6bbe0acab7a"
      },
      "execution_count": 9,
      "outputs": [
        {
          "output_type": "execute_result",
          "data": {
            "text/plain": [
              "        ID  Rented Bike Count\n",
              "0        0                 71\n",
              "1        1                545\n",
              "2        2                108\n",
              "3        3                522\n",
              "4        4               1990\n",
              "...    ...                ...\n",
              "7003  7003                437\n",
              "7004  7004               1068\n",
              "7005  7005                282\n",
              "7006  7006                786\n",
              "7007  7007               2183\n",
              "\n",
              "[7008 rows x 2 columns]"
            ],
            "text/html": [
              "\n",
              "  <div id=\"df-75153790-713a-4dc9-a23d-8baea17f38d1\">\n",
              "    <div class=\"colab-df-container\">\n",
              "      <div>\n",
              "<style scoped>\n",
              "    .dataframe tbody tr th:only-of-type {\n",
              "        vertical-align: middle;\n",
              "    }\n",
              "\n",
              "    .dataframe tbody tr th {\n",
              "        vertical-align: top;\n",
              "    }\n",
              "\n",
              "    .dataframe thead th {\n",
              "        text-align: right;\n",
              "    }\n",
              "</style>\n",
              "<table border=\"1\" class=\"dataframe\">\n",
              "  <thead>\n",
              "    <tr style=\"text-align: right;\">\n",
              "      <th></th>\n",
              "      <th>ID</th>\n",
              "      <th>Rented Bike Count</th>\n",
              "    </tr>\n",
              "  </thead>\n",
              "  <tbody>\n",
              "    <tr>\n",
              "      <th>0</th>\n",
              "      <td>0</td>\n",
              "      <td>71</td>\n",
              "    </tr>\n",
              "    <tr>\n",
              "      <th>1</th>\n",
              "      <td>1</td>\n",
              "      <td>545</td>\n",
              "    </tr>\n",
              "    <tr>\n",
              "      <th>2</th>\n",
              "      <td>2</td>\n",
              "      <td>108</td>\n",
              "    </tr>\n",
              "    <tr>\n",
              "      <th>3</th>\n",
              "      <td>3</td>\n",
              "      <td>522</td>\n",
              "    </tr>\n",
              "    <tr>\n",
              "      <th>4</th>\n",
              "      <td>4</td>\n",
              "      <td>1990</td>\n",
              "    </tr>\n",
              "    <tr>\n",
              "      <th>...</th>\n",
              "      <td>...</td>\n",
              "      <td>...</td>\n",
              "    </tr>\n",
              "    <tr>\n",
              "      <th>7003</th>\n",
              "      <td>7003</td>\n",
              "      <td>437</td>\n",
              "    </tr>\n",
              "    <tr>\n",
              "      <th>7004</th>\n",
              "      <td>7004</td>\n",
              "      <td>1068</td>\n",
              "    </tr>\n",
              "    <tr>\n",
              "      <th>7005</th>\n",
              "      <td>7005</td>\n",
              "      <td>282</td>\n",
              "    </tr>\n",
              "    <tr>\n",
              "      <th>7006</th>\n",
              "      <td>7006</td>\n",
              "      <td>786</td>\n",
              "    </tr>\n",
              "    <tr>\n",
              "      <th>7007</th>\n",
              "      <td>7007</td>\n",
              "      <td>2183</td>\n",
              "    </tr>\n",
              "  </tbody>\n",
              "</table>\n",
              "<p>7008 rows × 2 columns</p>\n",
              "</div>\n",
              "      <button class=\"colab-df-convert\" onclick=\"convertToInteractive('df-75153790-713a-4dc9-a23d-8baea17f38d1')\"\n",
              "              title=\"Convert this dataframe to an interactive table.\"\n",
              "              style=\"display:none;\">\n",
              "        \n",
              "  <svg xmlns=\"http://www.w3.org/2000/svg\" height=\"24px\"viewBox=\"0 0 24 24\"\n",
              "       width=\"24px\">\n",
              "    <path d=\"M0 0h24v24H0V0z\" fill=\"none\"/>\n",
              "    <path d=\"M18.56 5.44l.94 2.06.94-2.06 2.06-.94-2.06-.94-.94-2.06-.94 2.06-2.06.94zm-11 1L8.5 8.5l.94-2.06 2.06-.94-2.06-.94L8.5 2.5l-.94 2.06-2.06.94zm10 10l.94 2.06.94-2.06 2.06-.94-2.06-.94-.94-2.06-.94 2.06-2.06.94z\"/><path d=\"M17.41 7.96l-1.37-1.37c-.4-.4-.92-.59-1.43-.59-.52 0-1.04.2-1.43.59L10.3 9.45l-7.72 7.72c-.78.78-.78 2.05 0 2.83L4 21.41c.39.39.9.59 1.41.59.51 0 1.02-.2 1.41-.59l7.78-7.78 2.81-2.81c.8-.78.8-2.07 0-2.86zM5.41 20L4 18.59l7.72-7.72 1.47 1.35L5.41 20z\"/>\n",
              "  </svg>\n",
              "      </button>\n",
              "      \n",
              "  <style>\n",
              "    .colab-df-container {\n",
              "      display:flex;\n",
              "      flex-wrap:wrap;\n",
              "      gap: 12px;\n",
              "    }\n",
              "\n",
              "    .colab-df-convert {\n",
              "      background-color: #E8F0FE;\n",
              "      border: none;\n",
              "      border-radius: 50%;\n",
              "      cursor: pointer;\n",
              "      display: none;\n",
              "      fill: #1967D2;\n",
              "      height: 32px;\n",
              "      padding: 0 0 0 0;\n",
              "      width: 32px;\n",
              "    }\n",
              "\n",
              "    .colab-df-convert:hover {\n",
              "      background-color: #E2EBFA;\n",
              "      box-shadow: 0px 1px 2px rgba(60, 64, 67, 0.3), 0px 1px 3px 1px rgba(60, 64, 67, 0.15);\n",
              "      fill: #174EA6;\n",
              "    }\n",
              "\n",
              "    [theme=dark] .colab-df-convert {\n",
              "      background-color: #3B4455;\n",
              "      fill: #D2E3FC;\n",
              "    }\n",
              "\n",
              "    [theme=dark] .colab-df-convert:hover {\n",
              "      background-color: #434B5C;\n",
              "      box-shadow: 0px 1px 3px 1px rgba(0, 0, 0, 0.15);\n",
              "      filter: drop-shadow(0px 1px 2px rgba(0, 0, 0, 0.3));\n",
              "      fill: #FFFFFF;\n",
              "    }\n",
              "  </style>\n",
              "\n",
              "      <script>\n",
              "        const buttonEl =\n",
              "          document.querySelector('#df-75153790-713a-4dc9-a23d-8baea17f38d1 button.colab-df-convert');\n",
              "        buttonEl.style.display =\n",
              "          google.colab.kernel.accessAllowed ? 'block' : 'none';\n",
              "\n",
              "        async function convertToInteractive(key) {\n",
              "          const element = document.querySelector('#df-75153790-713a-4dc9-a23d-8baea17f38d1');\n",
              "          const dataTable =\n",
              "            await google.colab.kernel.invokeFunction('convertToInteractive',\n",
              "                                                     [key], {});\n",
              "          if (!dataTable) return;\n",
              "\n",
              "          const docLinkHtml = 'Like what you see? Visit the ' +\n",
              "            '<a target=\"_blank\" href=https://colab.research.google.com/notebooks/data_table.ipynb>data table notebook</a>'\n",
              "            + ' to learn more about interactive tables.';\n",
              "          element.innerHTML = '';\n",
              "          dataTable['output_type'] = 'display_data';\n",
              "          await google.colab.output.renderOutput(dataTable, element);\n",
              "          const docLink = document.createElement('div');\n",
              "          docLink.innerHTML = docLinkHtml;\n",
              "          element.appendChild(docLink);\n",
              "        }\n",
              "      </script>\n",
              "    </div>\n",
              "  </div>\n",
              "  "
            ]
          },
          "metadata": {},
          "execution_count": 9
        }
      ]
    },
    {
      "cell_type": "code",
      "source": [
        "y_train = y_train.drop(['ID'],axis=1)"
      ],
      "metadata": {
        "id": "79XQh9mXbAwl"
      },
      "execution_count": 10,
      "outputs": []
    },
    {
      "cell_type": "code",
      "source": [
        "y_train.shape"
      ],
      "metadata": {
        "colab": {
          "base_uri": "https://localhost:8080/"
        },
        "id": "LPoBGIzLczKt",
        "outputId": "e8ecf1d7-31b5-460d-e846-e13369a7a9ef"
      },
      "execution_count": 11,
      "outputs": [
        {
          "output_type": "execute_result",
          "data": {
            "text/plain": [
              "(7008, 1)"
            ]
          },
          "metadata": {},
          "execution_count": 11
        }
      ]
    },
    {
      "cell_type": "code",
      "source": [
        "merged_data = pd.concat([x_train, y_train], axis=1)\n",
        "\n",
        "# 결과 출력\n",
        "print(merged_data)"
      ],
      "metadata": {
        "colab": {
          "base_uri": "https://localhost:8080/"
        },
        "id": "tBpwxeOXIvF9",
        "outputId": "b8a6e69f-dc41-44f0-e27f-b9e1f92688a1"
      },
      "execution_count": 12,
      "outputs": [
        {
          "output_type": "stream",
          "name": "stdout",
          "text": [
            "        ID  Hour  Temperature  Humidity  Wind speed  Visibility  \\\n",
            "0        0     6        -15.7        29         2.5        2000   \n",
            "1        1    15          6.8        50         4.1         660   \n",
            "2        2     6          1.1        66         0.9        1550   \n",
            "3        3    11          6.0        66         0.9         573   \n",
            "4        4    17         18.2        43         2.3        1925   \n",
            "...    ...   ...          ...       ...         ...         ...   \n",
            "7003  7003    18         -7.8        32         4.5        2000   \n",
            "7004  7004     0         25.9        76         1.3         984   \n",
            "7005  7005     5         18.1        73         0.5        1182   \n",
            "7006  7006     7         14.1        69         1.1        1692   \n",
            "7007  7007    18         33.7        62         3.2        1082   \n",
            "\n",
            "      Dew point temperature  Solar Radiation  Rainfall  Snowfall  \\\n",
            "0                     -29.7             0.00       0.0       0.9   \n",
            "1                      -2.9             0.56       0.0       0.0   \n",
            "2                      -4.5             0.00       0.0       0.0   \n",
            "3                       0.1             1.37       0.0       2.3   \n",
            "4                       5.4             0.68       0.0       0.0   \n",
            "...                     ...              ...       ...       ...   \n",
            "7003                  -21.6             0.02       0.0       0.0   \n",
            "7004                   21.3             0.00       0.0       0.0   \n",
            "7005                   13.1             0.00       0.0       0.0   \n",
            "7006                    8.4             0.00       0.0       0.0   \n",
            "7007                   25.3             0.87       0.0       0.0   \n",
            "\n",
            "      Seasons_Autumn  Seasons_Spring  Seasons_Summer  Seasons_Winter  Holiday  \\\n",
            "0                0.0             0.0             0.0             1.0      0.0   \n",
            "1                0.0             1.0             0.0             0.0      0.0   \n",
            "2                0.0             0.0             0.0             1.0      0.0   \n",
            "3                1.0             0.0             0.0             0.0      0.0   \n",
            "4                1.0             0.0             0.0             0.0      0.0   \n",
            "...              ...             ...             ...             ...      ...   \n",
            "7003             0.0             0.0             0.0             1.0      0.0   \n",
            "7004             0.0             0.0             1.0             0.0      0.0   \n",
            "7005             0.0             0.0             1.0             0.0      0.0   \n",
            "7006             0.0             1.0             0.0             0.0      0.0   \n",
            "7007             0.0             0.0             1.0             0.0      0.0   \n",
            "\n",
            "      Functional Hours  Rented Bike Count  \n",
            "0                  1.0                 71  \n",
            "1                  1.0                545  \n",
            "2                  1.0                108  \n",
            "3                  1.0                522  \n",
            "4                  1.0               1990  \n",
            "...                ...                ...  \n",
            "7003               1.0                437  \n",
            "7004               1.0               1068  \n",
            "7005               1.0                282  \n",
            "7006               1.0                786  \n",
            "7007               1.0               2183  \n",
            "\n",
            "[7008 rows x 17 columns]\n"
          ]
        }
      ]
    },
    {
      "cell_type": "code",
      "source": [
        "merged_data.shape"
      ],
      "metadata": {
        "colab": {
          "base_uri": "https://localhost:8080/"
        },
        "id": "E-r06_FnPAIs",
        "outputId": "b78371ac-5357-4df8-ba92-256386cb0b10"
      },
      "execution_count": 13,
      "outputs": [
        {
          "output_type": "execute_result",
          "data": {
            "text/plain": [
              "(7008, 17)"
            ]
          },
          "metadata": {},
          "execution_count": 13
        }
      ]
    },
    {
      "cell_type": "code",
      "source": [
        "y_train"
      ],
      "metadata": {
        "colab": {
          "base_uri": "https://localhost:8080/",
          "height": 423
        },
        "id": "Obz_pZQtUsQK",
        "outputId": "8f9337ff-e06f-43d4-e51a-26fecd82f902"
      },
      "execution_count": 14,
      "outputs": [
        {
          "output_type": "execute_result",
          "data": {
            "text/plain": [
              "      Rented Bike Count\n",
              "0                    71\n",
              "1                   545\n",
              "2                   108\n",
              "3                   522\n",
              "4                  1990\n",
              "...                 ...\n",
              "7003                437\n",
              "7004               1068\n",
              "7005                282\n",
              "7006                786\n",
              "7007               2183\n",
              "\n",
              "[7008 rows x 1 columns]"
            ],
            "text/html": [
              "\n",
              "  <div id=\"df-d4fe20f8-0cbd-427e-ae8a-8e750d80ab26\">\n",
              "    <div class=\"colab-df-container\">\n",
              "      <div>\n",
              "<style scoped>\n",
              "    .dataframe tbody tr th:only-of-type {\n",
              "        vertical-align: middle;\n",
              "    }\n",
              "\n",
              "    .dataframe tbody tr th {\n",
              "        vertical-align: top;\n",
              "    }\n",
              "\n",
              "    .dataframe thead th {\n",
              "        text-align: right;\n",
              "    }\n",
              "</style>\n",
              "<table border=\"1\" class=\"dataframe\">\n",
              "  <thead>\n",
              "    <tr style=\"text-align: right;\">\n",
              "      <th></th>\n",
              "      <th>Rented Bike Count</th>\n",
              "    </tr>\n",
              "  </thead>\n",
              "  <tbody>\n",
              "    <tr>\n",
              "      <th>0</th>\n",
              "      <td>71</td>\n",
              "    </tr>\n",
              "    <tr>\n",
              "      <th>1</th>\n",
              "      <td>545</td>\n",
              "    </tr>\n",
              "    <tr>\n",
              "      <th>2</th>\n",
              "      <td>108</td>\n",
              "    </tr>\n",
              "    <tr>\n",
              "      <th>3</th>\n",
              "      <td>522</td>\n",
              "    </tr>\n",
              "    <tr>\n",
              "      <th>4</th>\n",
              "      <td>1990</td>\n",
              "    </tr>\n",
              "    <tr>\n",
              "      <th>...</th>\n",
              "      <td>...</td>\n",
              "    </tr>\n",
              "    <tr>\n",
              "      <th>7003</th>\n",
              "      <td>437</td>\n",
              "    </tr>\n",
              "    <tr>\n",
              "      <th>7004</th>\n",
              "      <td>1068</td>\n",
              "    </tr>\n",
              "    <tr>\n",
              "      <th>7005</th>\n",
              "      <td>282</td>\n",
              "    </tr>\n",
              "    <tr>\n",
              "      <th>7006</th>\n",
              "      <td>786</td>\n",
              "    </tr>\n",
              "    <tr>\n",
              "      <th>7007</th>\n",
              "      <td>2183</td>\n",
              "    </tr>\n",
              "  </tbody>\n",
              "</table>\n",
              "<p>7008 rows × 1 columns</p>\n",
              "</div>\n",
              "      <button class=\"colab-df-convert\" onclick=\"convertToInteractive('df-d4fe20f8-0cbd-427e-ae8a-8e750d80ab26')\"\n",
              "              title=\"Convert this dataframe to an interactive table.\"\n",
              "              style=\"display:none;\">\n",
              "        \n",
              "  <svg xmlns=\"http://www.w3.org/2000/svg\" height=\"24px\"viewBox=\"0 0 24 24\"\n",
              "       width=\"24px\">\n",
              "    <path d=\"M0 0h24v24H0V0z\" fill=\"none\"/>\n",
              "    <path d=\"M18.56 5.44l.94 2.06.94-2.06 2.06-.94-2.06-.94-.94-2.06-.94 2.06-2.06.94zm-11 1L8.5 8.5l.94-2.06 2.06-.94-2.06-.94L8.5 2.5l-.94 2.06-2.06.94zm10 10l.94 2.06.94-2.06 2.06-.94-2.06-.94-.94-2.06-.94 2.06-2.06.94z\"/><path d=\"M17.41 7.96l-1.37-1.37c-.4-.4-.92-.59-1.43-.59-.52 0-1.04.2-1.43.59L10.3 9.45l-7.72 7.72c-.78.78-.78 2.05 0 2.83L4 21.41c.39.39.9.59 1.41.59.51 0 1.02-.2 1.41-.59l7.78-7.78 2.81-2.81c.8-.78.8-2.07 0-2.86zM5.41 20L4 18.59l7.72-7.72 1.47 1.35L5.41 20z\"/>\n",
              "  </svg>\n",
              "      </button>\n",
              "      \n",
              "  <style>\n",
              "    .colab-df-container {\n",
              "      display:flex;\n",
              "      flex-wrap:wrap;\n",
              "      gap: 12px;\n",
              "    }\n",
              "\n",
              "    .colab-df-convert {\n",
              "      background-color: #E8F0FE;\n",
              "      border: none;\n",
              "      border-radius: 50%;\n",
              "      cursor: pointer;\n",
              "      display: none;\n",
              "      fill: #1967D2;\n",
              "      height: 32px;\n",
              "      padding: 0 0 0 0;\n",
              "      width: 32px;\n",
              "    }\n",
              "\n",
              "    .colab-df-convert:hover {\n",
              "      background-color: #E2EBFA;\n",
              "      box-shadow: 0px 1px 2px rgba(60, 64, 67, 0.3), 0px 1px 3px 1px rgba(60, 64, 67, 0.15);\n",
              "      fill: #174EA6;\n",
              "    }\n",
              "\n",
              "    [theme=dark] .colab-df-convert {\n",
              "      background-color: #3B4455;\n",
              "      fill: #D2E3FC;\n",
              "    }\n",
              "\n",
              "    [theme=dark] .colab-df-convert:hover {\n",
              "      background-color: #434B5C;\n",
              "      box-shadow: 0px 1px 3px 1px rgba(0, 0, 0, 0.15);\n",
              "      filter: drop-shadow(0px 1px 2px rgba(0, 0, 0, 0.3));\n",
              "      fill: #FFFFFF;\n",
              "    }\n",
              "  </style>\n",
              "\n",
              "      <script>\n",
              "        const buttonEl =\n",
              "          document.querySelector('#df-d4fe20f8-0cbd-427e-ae8a-8e750d80ab26 button.colab-df-convert');\n",
              "        buttonEl.style.display =\n",
              "          google.colab.kernel.accessAllowed ? 'block' : 'none';\n",
              "\n",
              "        async function convertToInteractive(key) {\n",
              "          const element = document.querySelector('#df-d4fe20f8-0cbd-427e-ae8a-8e750d80ab26');\n",
              "          const dataTable =\n",
              "            await google.colab.kernel.invokeFunction('convertToInteractive',\n",
              "                                                     [key], {});\n",
              "          if (!dataTable) return;\n",
              "\n",
              "          const docLinkHtml = 'Like what you see? Visit the ' +\n",
              "            '<a target=\"_blank\" href=https://colab.research.google.com/notebooks/data_table.ipynb>data table notebook</a>'\n",
              "            + ' to learn more about interactive tables.';\n",
              "          element.innerHTML = '';\n",
              "          dataTable['output_type'] = 'display_data';\n",
              "          await google.colab.output.renderOutput(dataTable, element);\n",
              "          const docLink = document.createElement('div');\n",
              "          docLink.innerHTML = docLinkHtml;\n",
              "          element.appendChild(docLink);\n",
              "        }\n",
              "      </script>\n",
              "    </div>\n",
              "  </div>\n",
              "  "
            ]
          },
          "metadata": {},
          "execution_count": 14
        }
      ]
    },
    {
      "cell_type": "code",
      "source": [
        "x_test"
      ],
      "metadata": {
        "colab": {
          "base_uri": "https://localhost:8080/",
          "height": 505
        },
        "id": "TbeVY4N4bHBI",
        "outputId": "60768e74-26cd-47c4-c222-f8799f86f0bb"
      },
      "execution_count": 15,
      "outputs": [
        {
          "output_type": "execute_result",
          "data": {
            "text/plain": [
              "        ID  Hour  Temperature  Humidity  Wind speed  Visibility  \\\n",
              "0        0     0         11.8        59         2.4        1535   \n",
              "1        1     3         18.6        78         0.8        1997   \n",
              "2        2    19          1.3        65         1.1        1122   \n",
              "3        3    15          5.4        20         2.2        1890   \n",
              "4        4     1         12.4        94         1.3         307   \n",
              "...    ...   ...          ...       ...         ...         ...   \n",
              "1747  1747    20         17.3        53         1.9        2000   \n",
              "1748  1748     8         -9.7        65         0.8        1508   \n",
              "1749  1749    14         34.4        65         1.8         960   \n",
              "1750  1750     2          2.1        28         0.4        1981   \n",
              "1751  1751     1         22.8        97         0.5        2000   \n",
              "\n",
              "      Dew point temperature  Solar Radiation  Rainfall  Snowfall  \\\n",
              "0                       4.0             0.00       0.0       0.0   \n",
              "1                      14.6             0.00       0.0       0.0   \n",
              "2                      -4.5             0.00       0.0       2.7   \n",
              "3                     -15.8             0.80       0.0       0.0   \n",
              "4                      11.4             0.00       0.0       0.0   \n",
              "...                     ...              ...       ...       ...   \n",
              "1747                    7.6             0.01       0.0       0.0   \n",
              "1748                  -15.0             0.02       0.0       0.0   \n",
              "1749                   26.8             1.75       0.2       0.0   \n",
              "1750                  -14.5             0.00       0.0       0.0   \n",
              "1751                   22.2             0.00       0.5       0.0   \n",
              "\n",
              "      Seasons_Autumn  Seasons_Spring  Seasons_Summer  Seasons_Winter  Holiday  \\\n",
              "0                0.0             1.0             0.0             0.0      0.0   \n",
              "1                0.0             0.0             1.0             0.0      0.0   \n",
              "2                0.0             0.0             0.0             1.0      0.0   \n",
              "3                0.0             0.0             0.0             1.0      0.0   \n",
              "4                0.0             1.0             0.0             0.0      0.0   \n",
              "...              ...             ...             ...             ...      ...   \n",
              "1747             0.0             1.0             0.0             0.0      0.0   \n",
              "1748             0.0             0.0             0.0             1.0      0.0   \n",
              "1749             0.0             0.0             1.0             0.0      0.0   \n",
              "1750             1.0             0.0             0.0             0.0      0.0   \n",
              "1751             0.0             0.0             1.0             0.0      0.0   \n",
              "\n",
              "      Functional Hours  \n",
              "0                  1.0  \n",
              "1                  1.0  \n",
              "2                  1.0  \n",
              "3                  1.0  \n",
              "4                  1.0  \n",
              "...                ...  \n",
              "1747               1.0  \n",
              "1748               1.0  \n",
              "1749               1.0  \n",
              "1750               1.0  \n",
              "1751               1.0  \n",
              "\n",
              "[1752 rows x 16 columns]"
            ],
            "text/html": [
              "\n",
              "  <div id=\"df-129d451d-4e35-482a-8109-8cd2e1660651\">\n",
              "    <div class=\"colab-df-container\">\n",
              "      <div>\n",
              "<style scoped>\n",
              "    .dataframe tbody tr th:only-of-type {\n",
              "        vertical-align: middle;\n",
              "    }\n",
              "\n",
              "    .dataframe tbody tr th {\n",
              "        vertical-align: top;\n",
              "    }\n",
              "\n",
              "    .dataframe thead th {\n",
              "        text-align: right;\n",
              "    }\n",
              "</style>\n",
              "<table border=\"1\" class=\"dataframe\">\n",
              "  <thead>\n",
              "    <tr style=\"text-align: right;\">\n",
              "      <th></th>\n",
              "      <th>ID</th>\n",
              "      <th>Hour</th>\n",
              "      <th>Temperature</th>\n",
              "      <th>Humidity</th>\n",
              "      <th>Wind speed</th>\n",
              "      <th>Visibility</th>\n",
              "      <th>Dew point temperature</th>\n",
              "      <th>Solar Radiation</th>\n",
              "      <th>Rainfall</th>\n",
              "      <th>Snowfall</th>\n",
              "      <th>Seasons_Autumn</th>\n",
              "      <th>Seasons_Spring</th>\n",
              "      <th>Seasons_Summer</th>\n",
              "      <th>Seasons_Winter</th>\n",
              "      <th>Holiday</th>\n",
              "      <th>Functional Hours</th>\n",
              "    </tr>\n",
              "  </thead>\n",
              "  <tbody>\n",
              "    <tr>\n",
              "      <th>0</th>\n",
              "      <td>0</td>\n",
              "      <td>0</td>\n",
              "      <td>11.8</td>\n",
              "      <td>59</td>\n",
              "      <td>2.4</td>\n",
              "      <td>1535</td>\n",
              "      <td>4.0</td>\n",
              "      <td>0.00</td>\n",
              "      <td>0.0</td>\n",
              "      <td>0.0</td>\n",
              "      <td>0.0</td>\n",
              "      <td>1.0</td>\n",
              "      <td>0.0</td>\n",
              "      <td>0.0</td>\n",
              "      <td>0.0</td>\n",
              "      <td>1.0</td>\n",
              "    </tr>\n",
              "    <tr>\n",
              "      <th>1</th>\n",
              "      <td>1</td>\n",
              "      <td>3</td>\n",
              "      <td>18.6</td>\n",
              "      <td>78</td>\n",
              "      <td>0.8</td>\n",
              "      <td>1997</td>\n",
              "      <td>14.6</td>\n",
              "      <td>0.00</td>\n",
              "      <td>0.0</td>\n",
              "      <td>0.0</td>\n",
              "      <td>0.0</td>\n",
              "      <td>0.0</td>\n",
              "      <td>1.0</td>\n",
              "      <td>0.0</td>\n",
              "      <td>0.0</td>\n",
              "      <td>1.0</td>\n",
              "    </tr>\n",
              "    <tr>\n",
              "      <th>2</th>\n",
              "      <td>2</td>\n",
              "      <td>19</td>\n",
              "      <td>1.3</td>\n",
              "      <td>65</td>\n",
              "      <td>1.1</td>\n",
              "      <td>1122</td>\n",
              "      <td>-4.5</td>\n",
              "      <td>0.00</td>\n",
              "      <td>0.0</td>\n",
              "      <td>2.7</td>\n",
              "      <td>0.0</td>\n",
              "      <td>0.0</td>\n",
              "      <td>0.0</td>\n",
              "      <td>1.0</td>\n",
              "      <td>0.0</td>\n",
              "      <td>1.0</td>\n",
              "    </tr>\n",
              "    <tr>\n",
              "      <th>3</th>\n",
              "      <td>3</td>\n",
              "      <td>15</td>\n",
              "      <td>5.4</td>\n",
              "      <td>20</td>\n",
              "      <td>2.2</td>\n",
              "      <td>1890</td>\n",
              "      <td>-15.8</td>\n",
              "      <td>0.80</td>\n",
              "      <td>0.0</td>\n",
              "      <td>0.0</td>\n",
              "      <td>0.0</td>\n",
              "      <td>0.0</td>\n",
              "      <td>0.0</td>\n",
              "      <td>1.0</td>\n",
              "      <td>0.0</td>\n",
              "      <td>1.0</td>\n",
              "    </tr>\n",
              "    <tr>\n",
              "      <th>4</th>\n",
              "      <td>4</td>\n",
              "      <td>1</td>\n",
              "      <td>12.4</td>\n",
              "      <td>94</td>\n",
              "      <td>1.3</td>\n",
              "      <td>307</td>\n",
              "      <td>11.4</td>\n",
              "      <td>0.00</td>\n",
              "      <td>0.0</td>\n",
              "      <td>0.0</td>\n",
              "      <td>0.0</td>\n",
              "      <td>1.0</td>\n",
              "      <td>0.0</td>\n",
              "      <td>0.0</td>\n",
              "      <td>0.0</td>\n",
              "      <td>1.0</td>\n",
              "    </tr>\n",
              "    <tr>\n",
              "      <th>...</th>\n",
              "      <td>...</td>\n",
              "      <td>...</td>\n",
              "      <td>...</td>\n",
              "      <td>...</td>\n",
              "      <td>...</td>\n",
              "      <td>...</td>\n",
              "      <td>...</td>\n",
              "      <td>...</td>\n",
              "      <td>...</td>\n",
              "      <td>...</td>\n",
              "      <td>...</td>\n",
              "      <td>...</td>\n",
              "      <td>...</td>\n",
              "      <td>...</td>\n",
              "      <td>...</td>\n",
              "      <td>...</td>\n",
              "    </tr>\n",
              "    <tr>\n",
              "      <th>1747</th>\n",
              "      <td>1747</td>\n",
              "      <td>20</td>\n",
              "      <td>17.3</td>\n",
              "      <td>53</td>\n",
              "      <td>1.9</td>\n",
              "      <td>2000</td>\n",
              "      <td>7.6</td>\n",
              "      <td>0.01</td>\n",
              "      <td>0.0</td>\n",
              "      <td>0.0</td>\n",
              "      <td>0.0</td>\n",
              "      <td>1.0</td>\n",
              "      <td>0.0</td>\n",
              "      <td>0.0</td>\n",
              "      <td>0.0</td>\n",
              "      <td>1.0</td>\n",
              "    </tr>\n",
              "    <tr>\n",
              "      <th>1748</th>\n",
              "      <td>1748</td>\n",
              "      <td>8</td>\n",
              "      <td>-9.7</td>\n",
              "      <td>65</td>\n",
              "      <td>0.8</td>\n",
              "      <td>1508</td>\n",
              "      <td>-15.0</td>\n",
              "      <td>0.02</td>\n",
              "      <td>0.0</td>\n",
              "      <td>0.0</td>\n",
              "      <td>0.0</td>\n",
              "      <td>0.0</td>\n",
              "      <td>0.0</td>\n",
              "      <td>1.0</td>\n",
              "      <td>0.0</td>\n",
              "      <td>1.0</td>\n",
              "    </tr>\n",
              "    <tr>\n",
              "      <th>1749</th>\n",
              "      <td>1749</td>\n",
              "      <td>14</td>\n",
              "      <td>34.4</td>\n",
              "      <td>65</td>\n",
              "      <td>1.8</td>\n",
              "      <td>960</td>\n",
              "      <td>26.8</td>\n",
              "      <td>1.75</td>\n",
              "      <td>0.2</td>\n",
              "      <td>0.0</td>\n",
              "      <td>0.0</td>\n",
              "      <td>0.0</td>\n",
              "      <td>1.0</td>\n",
              "      <td>0.0</td>\n",
              "      <td>0.0</td>\n",
              "      <td>1.0</td>\n",
              "    </tr>\n",
              "    <tr>\n",
              "      <th>1750</th>\n",
              "      <td>1750</td>\n",
              "      <td>2</td>\n",
              "      <td>2.1</td>\n",
              "      <td>28</td>\n",
              "      <td>0.4</td>\n",
              "      <td>1981</td>\n",
              "      <td>-14.5</td>\n",
              "      <td>0.00</td>\n",
              "      <td>0.0</td>\n",
              "      <td>0.0</td>\n",
              "      <td>1.0</td>\n",
              "      <td>0.0</td>\n",
              "      <td>0.0</td>\n",
              "      <td>0.0</td>\n",
              "      <td>0.0</td>\n",
              "      <td>1.0</td>\n",
              "    </tr>\n",
              "    <tr>\n",
              "      <th>1751</th>\n",
              "      <td>1751</td>\n",
              "      <td>1</td>\n",
              "      <td>22.8</td>\n",
              "      <td>97</td>\n",
              "      <td>0.5</td>\n",
              "      <td>2000</td>\n",
              "      <td>22.2</td>\n",
              "      <td>0.00</td>\n",
              "      <td>0.5</td>\n",
              "      <td>0.0</td>\n",
              "      <td>0.0</td>\n",
              "      <td>0.0</td>\n",
              "      <td>1.0</td>\n",
              "      <td>0.0</td>\n",
              "      <td>0.0</td>\n",
              "      <td>1.0</td>\n",
              "    </tr>\n",
              "  </tbody>\n",
              "</table>\n",
              "<p>1752 rows × 16 columns</p>\n",
              "</div>\n",
              "      <button class=\"colab-df-convert\" onclick=\"convertToInteractive('df-129d451d-4e35-482a-8109-8cd2e1660651')\"\n",
              "              title=\"Convert this dataframe to an interactive table.\"\n",
              "              style=\"display:none;\">\n",
              "        \n",
              "  <svg xmlns=\"http://www.w3.org/2000/svg\" height=\"24px\"viewBox=\"0 0 24 24\"\n",
              "       width=\"24px\">\n",
              "    <path d=\"M0 0h24v24H0V0z\" fill=\"none\"/>\n",
              "    <path d=\"M18.56 5.44l.94 2.06.94-2.06 2.06-.94-2.06-.94-.94-2.06-.94 2.06-2.06.94zm-11 1L8.5 8.5l.94-2.06 2.06-.94-2.06-.94L8.5 2.5l-.94 2.06-2.06.94zm10 10l.94 2.06.94-2.06 2.06-.94-2.06-.94-.94-2.06-.94 2.06-2.06.94z\"/><path d=\"M17.41 7.96l-1.37-1.37c-.4-.4-.92-.59-1.43-.59-.52 0-1.04.2-1.43.59L10.3 9.45l-7.72 7.72c-.78.78-.78 2.05 0 2.83L4 21.41c.39.39.9.59 1.41.59.51 0 1.02-.2 1.41-.59l7.78-7.78 2.81-2.81c.8-.78.8-2.07 0-2.86zM5.41 20L4 18.59l7.72-7.72 1.47 1.35L5.41 20z\"/>\n",
              "  </svg>\n",
              "      </button>\n",
              "      \n",
              "  <style>\n",
              "    .colab-df-container {\n",
              "      display:flex;\n",
              "      flex-wrap:wrap;\n",
              "      gap: 12px;\n",
              "    }\n",
              "\n",
              "    .colab-df-convert {\n",
              "      background-color: #E8F0FE;\n",
              "      border: none;\n",
              "      border-radius: 50%;\n",
              "      cursor: pointer;\n",
              "      display: none;\n",
              "      fill: #1967D2;\n",
              "      height: 32px;\n",
              "      padding: 0 0 0 0;\n",
              "      width: 32px;\n",
              "    }\n",
              "\n",
              "    .colab-df-convert:hover {\n",
              "      background-color: #E2EBFA;\n",
              "      box-shadow: 0px 1px 2px rgba(60, 64, 67, 0.3), 0px 1px 3px 1px rgba(60, 64, 67, 0.15);\n",
              "      fill: #174EA6;\n",
              "    }\n",
              "\n",
              "    [theme=dark] .colab-df-convert {\n",
              "      background-color: #3B4455;\n",
              "      fill: #D2E3FC;\n",
              "    }\n",
              "\n",
              "    [theme=dark] .colab-df-convert:hover {\n",
              "      background-color: #434B5C;\n",
              "      box-shadow: 0px 1px 3px 1px rgba(0, 0, 0, 0.15);\n",
              "      filter: drop-shadow(0px 1px 2px rgba(0, 0, 0, 0.3));\n",
              "      fill: #FFFFFF;\n",
              "    }\n",
              "  </style>\n",
              "\n",
              "      <script>\n",
              "        const buttonEl =\n",
              "          document.querySelector('#df-129d451d-4e35-482a-8109-8cd2e1660651 button.colab-df-convert');\n",
              "        buttonEl.style.display =\n",
              "          google.colab.kernel.accessAllowed ? 'block' : 'none';\n",
              "\n",
              "        async function convertToInteractive(key) {\n",
              "          const element = document.querySelector('#df-129d451d-4e35-482a-8109-8cd2e1660651');\n",
              "          const dataTable =\n",
              "            await google.colab.kernel.invokeFunction('convertToInteractive',\n",
              "                                                     [key], {});\n",
              "          if (!dataTable) return;\n",
              "\n",
              "          const docLinkHtml = 'Like what you see? Visit the ' +\n",
              "            '<a target=\"_blank\" href=https://colab.research.google.com/notebooks/data_table.ipynb>data table notebook</a>'\n",
              "            + ' to learn more about interactive tables.';\n",
              "          element.innerHTML = '';\n",
              "          dataTable['output_type'] = 'display_data';\n",
              "          await google.colab.output.renderOutput(dataTable, element);\n",
              "          const docLink = document.createElement('div');\n",
              "          docLink.innerHTML = docLinkHtml;\n",
              "          element.appendChild(docLink);\n",
              "        }\n",
              "      </script>\n",
              "    </div>\n",
              "  </div>\n",
              "  "
            ]
          },
          "metadata": {},
          "execution_count": 15
        }
      ]
    },
    {
      "cell_type": "code",
      "source": [
        "# x_train 결측치 확인\n",
        "print(x_train.isnull())"
      ],
      "metadata": {
        "colab": {
          "base_uri": "https://localhost:8080/"
        },
        "id": "J-VxLRYENHtt",
        "outputId": "7dcc47eb-e017-4e9f-d606-f325661c94cc"
      },
      "execution_count": 16,
      "outputs": [
        {
          "output_type": "stream",
          "name": "stdout",
          "text": [
            "         ID   Hour  Temperature  Humidity  Wind speed  Visibility  \\\n",
            "0     False  False        False     False       False       False   \n",
            "1     False  False        False     False       False       False   \n",
            "2     False  False        False     False       False       False   \n",
            "3     False  False        False     False       False       False   \n",
            "4     False  False        False     False       False       False   \n",
            "...     ...    ...          ...       ...         ...         ...   \n",
            "7003  False  False        False     False       False       False   \n",
            "7004  False  False        False     False       False       False   \n",
            "7005  False  False        False     False       False       False   \n",
            "7006  False  False        False     False       False       False   \n",
            "7007  False  False        False     False       False       False   \n",
            "\n",
            "      Dew point temperature  Solar Radiation  Rainfall  Snowfall  \\\n",
            "0                     False            False     False     False   \n",
            "1                     False            False     False     False   \n",
            "2                     False            False     False     False   \n",
            "3                     False            False     False     False   \n",
            "4                     False            False     False     False   \n",
            "...                     ...              ...       ...       ...   \n",
            "7003                  False            False     False     False   \n",
            "7004                  False            False     False     False   \n",
            "7005                  False            False     False     False   \n",
            "7006                  False            False     False     False   \n",
            "7007                  False            False     False     False   \n",
            "\n",
            "      Seasons_Autumn  Seasons_Spring  Seasons_Summer  Seasons_Winter  Holiday  \\\n",
            "0              False           False           False           False    False   \n",
            "1              False           False           False           False    False   \n",
            "2              False           False           False           False    False   \n",
            "3              False           False           False           False    False   \n",
            "4              False           False           False           False    False   \n",
            "...              ...             ...             ...             ...      ...   \n",
            "7003           False           False           False           False    False   \n",
            "7004           False           False           False           False    False   \n",
            "7005           False           False           False           False    False   \n",
            "7006           False           False           False           False    False   \n",
            "7007           False           False           False           False    False   \n",
            "\n",
            "      Functional Hours  \n",
            "0                False  \n",
            "1                False  \n",
            "2                False  \n",
            "3                False  \n",
            "4                False  \n",
            "...                ...  \n",
            "7003             False  \n",
            "7004             False  \n",
            "7005             False  \n",
            "7006             False  \n",
            "7007             False  \n",
            "\n",
            "[7008 rows x 16 columns]\n"
          ]
        }
      ]
    },
    {
      "cell_type": "code",
      "source": [
        "print(y_train.isnull())"
      ],
      "metadata": {
        "colab": {
          "base_uri": "https://localhost:8080/"
        },
        "id": "5SZEDX8bNexO",
        "outputId": "a5045b2c-8ad2-46ac-b023-9a7f169cace0"
      },
      "execution_count": 17,
      "outputs": [
        {
          "output_type": "stream",
          "name": "stdout",
          "text": [
            "      Rented Bike Count\n",
            "0                 False\n",
            "1                 False\n",
            "2                 False\n",
            "3                 False\n",
            "4                 False\n",
            "...                 ...\n",
            "7003              False\n",
            "7004              False\n",
            "7005              False\n",
            "7006              False\n",
            "7007              False\n",
            "\n",
            "[7008 rows x 1 columns]\n"
          ]
        }
      ]
    },
    {
      "cell_type": "code",
      "source": [
        "print(x_test.isnull())"
      ],
      "metadata": {
        "colab": {
          "base_uri": "https://localhost:8080/"
        },
        "id": "wklZce5GNjiU",
        "outputId": "a6dc281f-d6e1-4bf9-87af-ce461895dbaf"
      },
      "execution_count": 18,
      "outputs": [
        {
          "output_type": "stream",
          "name": "stdout",
          "text": [
            "         ID   Hour  Temperature  Humidity  Wind speed  Visibility  \\\n",
            "0     False  False        False     False       False       False   \n",
            "1     False  False        False     False       False       False   \n",
            "2     False  False        False     False       False       False   \n",
            "3     False  False        False     False       False       False   \n",
            "4     False  False        False     False       False       False   \n",
            "...     ...    ...          ...       ...         ...         ...   \n",
            "1747  False  False        False     False       False       False   \n",
            "1748  False  False        False     False       False       False   \n",
            "1749  False  False        False     False       False       False   \n",
            "1750  False  False        False     False       False       False   \n",
            "1751  False  False        False     False       False       False   \n",
            "\n",
            "      Dew point temperature  Solar Radiation  Rainfall  Snowfall  \\\n",
            "0                     False            False     False     False   \n",
            "1                     False            False     False     False   \n",
            "2                     False            False     False     False   \n",
            "3                     False            False     False     False   \n",
            "4                     False            False     False     False   \n",
            "...                     ...              ...       ...       ...   \n",
            "1747                  False            False     False     False   \n",
            "1748                  False            False     False     False   \n",
            "1749                  False            False     False     False   \n",
            "1750                  False            False     False     False   \n",
            "1751                  False            False     False     False   \n",
            "\n",
            "      Seasons_Autumn  Seasons_Spring  Seasons_Summer  Seasons_Winter  Holiday  \\\n",
            "0              False           False           False           False    False   \n",
            "1              False           False           False           False    False   \n",
            "2              False           False           False           False    False   \n",
            "3              False           False           False           False    False   \n",
            "4              False           False           False           False    False   \n",
            "...              ...             ...             ...             ...      ...   \n",
            "1747           False           False           False           False    False   \n",
            "1748           False           False           False           False    False   \n",
            "1749           False           False           False           False    False   \n",
            "1750           False           False           False           False    False   \n",
            "1751           False           False           False           False    False   \n",
            "\n",
            "      Functional Hours  \n",
            "0                False  \n",
            "1                False  \n",
            "2                False  \n",
            "3                False  \n",
            "4                False  \n",
            "...                ...  \n",
            "1747             False  \n",
            "1748             False  \n",
            "1749             False  \n",
            "1750             False  \n",
            "1751             False  \n",
            "\n",
            "[1752 rows x 16 columns]\n"
          ]
        }
      ]
    },
    {
      "cell_type": "code",
      "source": [
        "x_train.describe()"
      ],
      "metadata": {
        "colab": {
          "base_uri": "https://localhost:8080/",
          "height": 381
        },
        "id": "uqZlxxmubHca",
        "outputId": "7466b092-83d5-4a64-dd71-4726b6a8ed49"
      },
      "execution_count": 19,
      "outputs": [
        {
          "output_type": "execute_result",
          "data": {
            "text/plain": [
              "                ID         Hour  Temperature     Humidity   Wind speed  \\\n",
              "count  7008.000000  7008.000000  7008.000000  7008.000000  7008.000000   \n",
              "mean   3503.500000    11.474600    12.916110    58.239869     1.729466   \n",
              "std    2023.179676     6.922325    11.965449    20.392228     1.034256   \n",
              "min       0.000000     0.000000   -17.800000     0.000000     0.000000   \n",
              "25%    1751.750000     5.000000     3.500000    42.000000     0.900000   \n",
              "50%    3503.500000    11.000000    13.700000    57.000000     1.500000   \n",
              "75%    5255.250000    17.000000    22.600000    74.000000     2.300000   \n",
              "max    7007.000000    23.000000    39.400000    98.000000     7.300000   \n",
              "\n",
              "        Visibility  Dew point temperature  Solar Radiation     Rainfall  \\\n",
              "count  7008.000000            7008.000000      7008.000000  7008.000000   \n",
              "mean   1435.503853               4.114155         0.571916     0.146047   \n",
              "std     607.465047              13.072395         0.873096     1.053053   \n",
              "min      27.000000             -30.600000         0.000000     0.000000   \n",
              "25%     941.750000              -4.600000         0.000000     0.000000   \n",
              "50%    1691.000000               5.300000         0.010000     0.000000   \n",
              "75%    2000.000000              14.800000         0.940000     0.000000   \n",
              "max    2000.000000              27.200000         3.520000    29.500000   \n",
              "\n",
              "          Snowfall  Seasons_Autumn  Seasons_Spring  Seasons_Summer  \\\n",
              "count  7008.000000     7008.000000     7008.000000     7008.000000   \n",
              "mean      0.073216        0.245434        0.252568        0.254138   \n",
              "std       0.428825        0.430375        0.434517        0.435407   \n",
              "min       0.000000        0.000000        0.000000        0.000000   \n",
              "25%       0.000000        0.000000        0.000000        0.000000   \n",
              "50%       0.000000        0.000000        0.000000        0.000000   \n",
              "75%       0.000000        0.000000        1.000000        1.000000   \n",
              "max       8.800000        1.000000        1.000000        1.000000   \n",
              "\n",
              "       Seasons_Winter      Holiday  Functional Hours  \n",
              "count     7008.000000  7008.000000       7008.000000  \n",
              "mean         0.247860     0.047374          0.966182  \n",
              "std          0.431801     0.212454          0.180775  \n",
              "min          0.000000     0.000000          0.000000  \n",
              "25%          0.000000     0.000000          1.000000  \n",
              "50%          0.000000     0.000000          1.000000  \n",
              "75%          0.000000     0.000000          1.000000  \n",
              "max          1.000000     1.000000          1.000000  "
            ],
            "text/html": [
              "\n",
              "  <div id=\"df-4f6a2c73-987f-46b5-ba26-c8c50d5c2501\">\n",
              "    <div class=\"colab-df-container\">\n",
              "      <div>\n",
              "<style scoped>\n",
              "    .dataframe tbody tr th:only-of-type {\n",
              "        vertical-align: middle;\n",
              "    }\n",
              "\n",
              "    .dataframe tbody tr th {\n",
              "        vertical-align: top;\n",
              "    }\n",
              "\n",
              "    .dataframe thead th {\n",
              "        text-align: right;\n",
              "    }\n",
              "</style>\n",
              "<table border=\"1\" class=\"dataframe\">\n",
              "  <thead>\n",
              "    <tr style=\"text-align: right;\">\n",
              "      <th></th>\n",
              "      <th>ID</th>\n",
              "      <th>Hour</th>\n",
              "      <th>Temperature</th>\n",
              "      <th>Humidity</th>\n",
              "      <th>Wind speed</th>\n",
              "      <th>Visibility</th>\n",
              "      <th>Dew point temperature</th>\n",
              "      <th>Solar Radiation</th>\n",
              "      <th>Rainfall</th>\n",
              "      <th>Snowfall</th>\n",
              "      <th>Seasons_Autumn</th>\n",
              "      <th>Seasons_Spring</th>\n",
              "      <th>Seasons_Summer</th>\n",
              "      <th>Seasons_Winter</th>\n",
              "      <th>Holiday</th>\n",
              "      <th>Functional Hours</th>\n",
              "    </tr>\n",
              "  </thead>\n",
              "  <tbody>\n",
              "    <tr>\n",
              "      <th>count</th>\n",
              "      <td>7008.000000</td>\n",
              "      <td>7008.000000</td>\n",
              "      <td>7008.000000</td>\n",
              "      <td>7008.000000</td>\n",
              "      <td>7008.000000</td>\n",
              "      <td>7008.000000</td>\n",
              "      <td>7008.000000</td>\n",
              "      <td>7008.000000</td>\n",
              "      <td>7008.000000</td>\n",
              "      <td>7008.000000</td>\n",
              "      <td>7008.000000</td>\n",
              "      <td>7008.000000</td>\n",
              "      <td>7008.000000</td>\n",
              "      <td>7008.000000</td>\n",
              "      <td>7008.000000</td>\n",
              "      <td>7008.000000</td>\n",
              "    </tr>\n",
              "    <tr>\n",
              "      <th>mean</th>\n",
              "      <td>3503.500000</td>\n",
              "      <td>11.474600</td>\n",
              "      <td>12.916110</td>\n",
              "      <td>58.239869</td>\n",
              "      <td>1.729466</td>\n",
              "      <td>1435.503853</td>\n",
              "      <td>4.114155</td>\n",
              "      <td>0.571916</td>\n",
              "      <td>0.146047</td>\n",
              "      <td>0.073216</td>\n",
              "      <td>0.245434</td>\n",
              "      <td>0.252568</td>\n",
              "      <td>0.254138</td>\n",
              "      <td>0.247860</td>\n",
              "      <td>0.047374</td>\n",
              "      <td>0.966182</td>\n",
              "    </tr>\n",
              "    <tr>\n",
              "      <th>std</th>\n",
              "      <td>2023.179676</td>\n",
              "      <td>6.922325</td>\n",
              "      <td>11.965449</td>\n",
              "      <td>20.392228</td>\n",
              "      <td>1.034256</td>\n",
              "      <td>607.465047</td>\n",
              "      <td>13.072395</td>\n",
              "      <td>0.873096</td>\n",
              "      <td>1.053053</td>\n",
              "      <td>0.428825</td>\n",
              "      <td>0.430375</td>\n",
              "      <td>0.434517</td>\n",
              "      <td>0.435407</td>\n",
              "      <td>0.431801</td>\n",
              "      <td>0.212454</td>\n",
              "      <td>0.180775</td>\n",
              "    </tr>\n",
              "    <tr>\n",
              "      <th>min</th>\n",
              "      <td>0.000000</td>\n",
              "      <td>0.000000</td>\n",
              "      <td>-17.800000</td>\n",
              "      <td>0.000000</td>\n",
              "      <td>0.000000</td>\n",
              "      <td>27.000000</td>\n",
              "      <td>-30.600000</td>\n",
              "      <td>0.000000</td>\n",
              "      <td>0.000000</td>\n",
              "      <td>0.000000</td>\n",
              "      <td>0.000000</td>\n",
              "      <td>0.000000</td>\n",
              "      <td>0.000000</td>\n",
              "      <td>0.000000</td>\n",
              "      <td>0.000000</td>\n",
              "      <td>0.000000</td>\n",
              "    </tr>\n",
              "    <tr>\n",
              "      <th>25%</th>\n",
              "      <td>1751.750000</td>\n",
              "      <td>5.000000</td>\n",
              "      <td>3.500000</td>\n",
              "      <td>42.000000</td>\n",
              "      <td>0.900000</td>\n",
              "      <td>941.750000</td>\n",
              "      <td>-4.600000</td>\n",
              "      <td>0.000000</td>\n",
              "      <td>0.000000</td>\n",
              "      <td>0.000000</td>\n",
              "      <td>0.000000</td>\n",
              "      <td>0.000000</td>\n",
              "      <td>0.000000</td>\n",
              "      <td>0.000000</td>\n",
              "      <td>0.000000</td>\n",
              "      <td>1.000000</td>\n",
              "    </tr>\n",
              "    <tr>\n",
              "      <th>50%</th>\n",
              "      <td>3503.500000</td>\n",
              "      <td>11.000000</td>\n",
              "      <td>13.700000</td>\n",
              "      <td>57.000000</td>\n",
              "      <td>1.500000</td>\n",
              "      <td>1691.000000</td>\n",
              "      <td>5.300000</td>\n",
              "      <td>0.010000</td>\n",
              "      <td>0.000000</td>\n",
              "      <td>0.000000</td>\n",
              "      <td>0.000000</td>\n",
              "      <td>0.000000</td>\n",
              "      <td>0.000000</td>\n",
              "      <td>0.000000</td>\n",
              "      <td>0.000000</td>\n",
              "      <td>1.000000</td>\n",
              "    </tr>\n",
              "    <tr>\n",
              "      <th>75%</th>\n",
              "      <td>5255.250000</td>\n",
              "      <td>17.000000</td>\n",
              "      <td>22.600000</td>\n",
              "      <td>74.000000</td>\n",
              "      <td>2.300000</td>\n",
              "      <td>2000.000000</td>\n",
              "      <td>14.800000</td>\n",
              "      <td>0.940000</td>\n",
              "      <td>0.000000</td>\n",
              "      <td>0.000000</td>\n",
              "      <td>0.000000</td>\n",
              "      <td>1.000000</td>\n",
              "      <td>1.000000</td>\n",
              "      <td>0.000000</td>\n",
              "      <td>0.000000</td>\n",
              "      <td>1.000000</td>\n",
              "    </tr>\n",
              "    <tr>\n",
              "      <th>max</th>\n",
              "      <td>7007.000000</td>\n",
              "      <td>23.000000</td>\n",
              "      <td>39.400000</td>\n",
              "      <td>98.000000</td>\n",
              "      <td>7.300000</td>\n",
              "      <td>2000.000000</td>\n",
              "      <td>27.200000</td>\n",
              "      <td>3.520000</td>\n",
              "      <td>29.500000</td>\n",
              "      <td>8.800000</td>\n",
              "      <td>1.000000</td>\n",
              "      <td>1.000000</td>\n",
              "      <td>1.000000</td>\n",
              "      <td>1.000000</td>\n",
              "      <td>1.000000</td>\n",
              "      <td>1.000000</td>\n",
              "    </tr>\n",
              "  </tbody>\n",
              "</table>\n",
              "</div>\n",
              "      <button class=\"colab-df-convert\" onclick=\"convertToInteractive('df-4f6a2c73-987f-46b5-ba26-c8c50d5c2501')\"\n",
              "              title=\"Convert this dataframe to an interactive table.\"\n",
              "              style=\"display:none;\">\n",
              "        \n",
              "  <svg xmlns=\"http://www.w3.org/2000/svg\" height=\"24px\"viewBox=\"0 0 24 24\"\n",
              "       width=\"24px\">\n",
              "    <path d=\"M0 0h24v24H0V0z\" fill=\"none\"/>\n",
              "    <path d=\"M18.56 5.44l.94 2.06.94-2.06 2.06-.94-2.06-.94-.94-2.06-.94 2.06-2.06.94zm-11 1L8.5 8.5l.94-2.06 2.06-.94-2.06-.94L8.5 2.5l-.94 2.06-2.06.94zm10 10l.94 2.06.94-2.06 2.06-.94-2.06-.94-.94-2.06-.94 2.06-2.06.94z\"/><path d=\"M17.41 7.96l-1.37-1.37c-.4-.4-.92-.59-1.43-.59-.52 0-1.04.2-1.43.59L10.3 9.45l-7.72 7.72c-.78.78-.78 2.05 0 2.83L4 21.41c.39.39.9.59 1.41.59.51 0 1.02-.2 1.41-.59l7.78-7.78 2.81-2.81c.8-.78.8-2.07 0-2.86zM5.41 20L4 18.59l7.72-7.72 1.47 1.35L5.41 20z\"/>\n",
              "  </svg>\n",
              "      </button>\n",
              "      \n",
              "  <style>\n",
              "    .colab-df-container {\n",
              "      display:flex;\n",
              "      flex-wrap:wrap;\n",
              "      gap: 12px;\n",
              "    }\n",
              "\n",
              "    .colab-df-convert {\n",
              "      background-color: #E8F0FE;\n",
              "      border: none;\n",
              "      border-radius: 50%;\n",
              "      cursor: pointer;\n",
              "      display: none;\n",
              "      fill: #1967D2;\n",
              "      height: 32px;\n",
              "      padding: 0 0 0 0;\n",
              "      width: 32px;\n",
              "    }\n",
              "\n",
              "    .colab-df-convert:hover {\n",
              "      background-color: #E2EBFA;\n",
              "      box-shadow: 0px 1px 2px rgba(60, 64, 67, 0.3), 0px 1px 3px 1px rgba(60, 64, 67, 0.15);\n",
              "      fill: #174EA6;\n",
              "    }\n",
              "\n",
              "    [theme=dark] .colab-df-convert {\n",
              "      background-color: #3B4455;\n",
              "      fill: #D2E3FC;\n",
              "    }\n",
              "\n",
              "    [theme=dark] .colab-df-convert:hover {\n",
              "      background-color: #434B5C;\n",
              "      box-shadow: 0px 1px 3px 1px rgba(0, 0, 0, 0.15);\n",
              "      filter: drop-shadow(0px 1px 2px rgba(0, 0, 0, 0.3));\n",
              "      fill: #FFFFFF;\n",
              "    }\n",
              "  </style>\n",
              "\n",
              "      <script>\n",
              "        const buttonEl =\n",
              "          document.querySelector('#df-4f6a2c73-987f-46b5-ba26-c8c50d5c2501 button.colab-df-convert');\n",
              "        buttonEl.style.display =\n",
              "          google.colab.kernel.accessAllowed ? 'block' : 'none';\n",
              "\n",
              "        async function convertToInteractive(key) {\n",
              "          const element = document.querySelector('#df-4f6a2c73-987f-46b5-ba26-c8c50d5c2501');\n",
              "          const dataTable =\n",
              "            await google.colab.kernel.invokeFunction('convertToInteractive',\n",
              "                                                     [key], {});\n",
              "          if (!dataTable) return;\n",
              "\n",
              "          const docLinkHtml = 'Like what you see? Visit the ' +\n",
              "            '<a target=\"_blank\" href=https://colab.research.google.com/notebooks/data_table.ipynb>data table notebook</a>'\n",
              "            + ' to learn more about interactive tables.';\n",
              "          element.innerHTML = '';\n",
              "          dataTable['output_type'] = 'display_data';\n",
              "          await google.colab.output.renderOutput(dataTable, element);\n",
              "          const docLink = document.createElement('div');\n",
              "          docLink.innerHTML = docLinkHtml;\n",
              "          element.appendChild(docLink);\n",
              "        }\n",
              "      </script>\n",
              "    </div>\n",
              "  </div>\n",
              "  "
            ]
          },
          "metadata": {},
          "execution_count": 19
        }
      ]
    },
    {
      "cell_type": "code",
      "source": [
        "merged_data.describe"
      ],
      "metadata": {
        "colab": {
          "base_uri": "https://localhost:8080/"
        },
        "id": "hCdwqvEt9G6T",
        "outputId": "c1a8c00a-fbeb-491b-df55-d659717d1987"
      },
      "execution_count": 20,
      "outputs": [
        {
          "output_type": "execute_result",
          "data": {
            "text/plain": [
              "<bound method NDFrame.describe of         ID  Hour  Temperature  Humidity  Wind speed  Visibility  \\\n",
              "0        0     6        -15.7        29         2.5        2000   \n",
              "1        1    15          6.8        50         4.1         660   \n",
              "2        2     6          1.1        66         0.9        1550   \n",
              "3        3    11          6.0        66         0.9         573   \n",
              "4        4    17         18.2        43         2.3        1925   \n",
              "...    ...   ...          ...       ...         ...         ...   \n",
              "7003  7003    18         -7.8        32         4.5        2000   \n",
              "7004  7004     0         25.9        76         1.3         984   \n",
              "7005  7005     5         18.1        73         0.5        1182   \n",
              "7006  7006     7         14.1        69         1.1        1692   \n",
              "7007  7007    18         33.7        62         3.2        1082   \n",
              "\n",
              "      Dew point temperature  Solar Radiation  Rainfall  Snowfall  \\\n",
              "0                     -29.7             0.00       0.0       0.9   \n",
              "1                      -2.9             0.56       0.0       0.0   \n",
              "2                      -4.5             0.00       0.0       0.0   \n",
              "3                       0.1             1.37       0.0       2.3   \n",
              "4                       5.4             0.68       0.0       0.0   \n",
              "...                     ...              ...       ...       ...   \n",
              "7003                  -21.6             0.02       0.0       0.0   \n",
              "7004                   21.3             0.00       0.0       0.0   \n",
              "7005                   13.1             0.00       0.0       0.0   \n",
              "7006                    8.4             0.00       0.0       0.0   \n",
              "7007                   25.3             0.87       0.0       0.0   \n",
              "\n",
              "      Seasons_Autumn  Seasons_Spring  Seasons_Summer  Seasons_Winter  Holiday  \\\n",
              "0                0.0             0.0             0.0             1.0      0.0   \n",
              "1                0.0             1.0             0.0             0.0      0.0   \n",
              "2                0.0             0.0             0.0             1.0      0.0   \n",
              "3                1.0             0.0             0.0             0.0      0.0   \n",
              "4                1.0             0.0             0.0             0.0      0.0   \n",
              "...              ...             ...             ...             ...      ...   \n",
              "7003             0.0             0.0             0.0             1.0      0.0   \n",
              "7004             0.0             0.0             1.0             0.0      0.0   \n",
              "7005             0.0             0.0             1.0             0.0      0.0   \n",
              "7006             0.0             1.0             0.0             0.0      0.0   \n",
              "7007             0.0             0.0             1.0             0.0      0.0   \n",
              "\n",
              "      Functional Hours  Rented Bike Count  \n",
              "0                  1.0                 71  \n",
              "1                  1.0                545  \n",
              "2                  1.0                108  \n",
              "3                  1.0                522  \n",
              "4                  1.0               1990  \n",
              "...                ...                ...  \n",
              "7003               1.0                437  \n",
              "7004               1.0               1068  \n",
              "7005               1.0                282  \n",
              "7006               1.0                786  \n",
              "7007               1.0               2183  \n",
              "\n",
              "[7008 rows x 17 columns]>"
            ]
          },
          "metadata": {},
          "execution_count": 20
        }
      ]
    },
    {
      "cell_type": "code",
      "source": [
        "merged_data.hist()"
      ],
      "metadata": {
        "colab": {
          "base_uri": "https://localhost:8080/",
          "height": 761
        },
        "id": "71NGsgW7QXoA",
        "outputId": "db32b3c1-b562-479d-f023-64a8de52d59a"
      },
      "execution_count": 21,
      "outputs": [
        {
          "output_type": "execute_result",
          "data": {
            "text/plain": [
              "array([[<Axes: title={'center': 'ID'}>, <Axes: title={'center': 'Hour'}>,\n",
              "        <Axes: title={'center': 'Temperature'}>,\n",
              "        <Axes: title={'center': 'Humidity'}>],\n",
              "       [<Axes: title={'center': 'Wind speed'}>,\n",
              "        <Axes: title={'center': 'Visibility'}>,\n",
              "        <Axes: title={'center': 'Dew point temperature'}>,\n",
              "        <Axes: title={'center': 'Solar Radiation'}>],\n",
              "       [<Axes: title={'center': 'Rainfall'}>,\n",
              "        <Axes: title={'center': 'Snowfall'}>,\n",
              "        <Axes: title={'center': 'Seasons_Autumn'}>,\n",
              "        <Axes: title={'center': 'Seasons_Spring'}>],\n",
              "       [<Axes: title={'center': 'Seasons_Summer'}>,\n",
              "        <Axes: title={'center': 'Seasons_Winter'}>,\n",
              "        <Axes: title={'center': 'Holiday'}>,\n",
              "        <Axes: title={'center': 'Functional Hours'}>],\n",
              "       [<Axes: title={'center': 'Rented Bike Count'}>, <Axes: >,\n",
              "        <Axes: >, <Axes: >]], dtype=object)"
            ]
          },
          "metadata": {},
          "execution_count": 21
        },
        {
          "output_type": "display_data",
          "data": {
            "text/plain": [
              "<Figure size 640x480 with 20 Axes>"
            ],
            "image/png": "[encoded data removed]"
          },
          "metadata": {}
        }
      ]
    },
    {
      "cell_type": "code",
      "source": [
        "merged_data.hist(bins = 50)"
      ],
      "metadata": {
        "colab": {
          "base_uri": "https://localhost:8080/",
          "height": 761
        },
        "id": "WAsuL3fY8RgN",
        "outputId": "fe8fa0ef-6d0b-4b24-c940-7ed6412fa2a9"
      },
      "execution_count": 22,
      "outputs": [
        {
          "output_type": "execute_result",
          "data": {
            "text/plain": [
              "array([[<Axes: title={'center': 'ID'}>, <Axes: title={'center': 'Hour'}>,\n",
              "        <Axes: title={'center': 'Temperature'}>,\n",
              "        <Axes: title={'center': 'Humidity'}>],\n",
              "       [<Axes: title={'center': 'Wind speed'}>,\n",
              "        <Axes: title={'center': 'Visibility'}>,\n",
              "        <Axes: title={'center': 'Dew point temperature'}>,\n",
              "        <Axes: title={'center': 'Solar Radiation'}>],\n",
              "       [<Axes: title={'center': 'Rainfall'}>,\n",
              "        <Axes: title={'center': 'Snowfall'}>,\n",
              "        <Axes: title={'center': 'Seasons_Autumn'}>,\n",
              "        <Axes: title={'center': 'Seasons_Spring'}>],\n",
              "       [<Axes: title={'center': 'Seasons_Summer'}>,\n",
              "        <Axes: title={'center': 'Seasons_Winter'}>,\n",
              "        <Axes: title={'center': 'Holiday'}>,\n",
              "        <Axes: title={'center': 'Functional Hours'}>],\n",
              "       [<Axes: title={'center': 'Rented Bike Count'}>, <Axes: >,\n",
              "        <Axes: >, <Axes: >]], dtype=object)"
            ]
          },
          "metadata": {},
          "execution_count": 22
        },
        {
          "output_type": "display_data",
          "data": {
            "text/plain": [
              "<Figure size 640x480 with 20 Axes>"
            ],
            "image/png": "[encoded data removed]"
          },
          "metadata": {}
        }
      ]
    },
    {
      "cell_type": "markdown",
      "source": [
        "### 데이터 전처리"
      ],
      "metadata": {
        "id": "o1e6GNUsLWFh"
      }
    },
    {
      "cell_type": "markdown",
      "source": [
        "#### IQR"
      ],
      "metadata": {
        "id": "hlaZ1RNiJDw_"
      }
    },
    {
      "cell_type": "markdown",
      "source": [
        "##### Hour"
      ],
      "metadata": {
        "id": "DVUBHi6tLv0H"
      }
    },
    {
      "cell_type": "code",
      "source": [
        "merged_data['Hour'].hist()"
      ],
      "metadata": {
        "colab": {
          "base_uri": "https://localhost:8080/",
          "height": 448
        },
        "id": "v9mPINeELygO",
        "outputId": "9270e43e-7ab4-43d1-97dd-85633ec34999"
      },
      "execution_count": 23,
      "outputs": [
        {
          "output_type": "execute_result",
          "data": {
            "text/plain": [
              "<Axes: >"
            ]
          },
          "metadata": {},
          "execution_count": 23
        },
        {
          "output_type": "display_data",
          "data": {
            "text/plain": [
              "<Figure size 640x480 with 1 Axes>"
            ],
            "image/png": "[encoded data removed]"
          },
          "metadata": {}
        }
      ]
    },
    {
      "cell_type": "code",
      "source": [
        "merged_data['Hour'].hist(bins = 50)"
      ],
      "metadata": {
        "colab": {
          "base_uri": "https://localhost:8080/",
          "height": 448
        },
        "id": "woE1ff2zL0aH",
        "outputId": "245e9518-a351-4c7a-cf3a-16a84117c5b6"
      },
      "execution_count": 24,
      "outputs": [
        {
          "output_type": "execute_result",
          "data": {
            "text/plain": [
              "<Axes: >"
            ]
          },
          "metadata": {},
          "execution_count": 24
        },
        {
          "output_type": "display_data",
          "data": {
            "text/plain": [
              "<Figure size 640x480 with 1 Axes>"
            ],
            "image/png": "[encoded data removed]"
          },
          "metadata": {}
        }
      ]
    },
    {
      "cell_type": "markdown",
      "source": [
        "#####Temperature"
      ],
      "metadata": {
        "id": "FS9G1bXBWF6x"
      }
    },
    {
      "cell_type": "code",
      "source": [
        "merged_data['Temperature'].hist()"
      ],
      "metadata": {
        "colab": {
          "base_uri": "https://localhost:8080/",
          "height": 448
        },
        "id": "Tt5VofGOWMOX",
        "outputId": "ebafaa93-e335-47e3-9232-65e88bcb1b2c"
      },
      "execution_count": 25,
      "outputs": [
        {
          "output_type": "execute_result",
          "data": {
            "text/plain": [
              "<Axes: >"
            ]
          },
          "metadata": {},
          "execution_count": 25
        },
        {
          "output_type": "display_data",
          "data": {
            "text/plain": [
              "<Figure size 640x480 with 1 Axes>"
            ],
            "image/png": "[encoded data removed]"
          },
          "metadata": {}
        }
      ]
    },
    {
      "cell_type": "code",
      "source": [
        "merged_data['Temperature'].hist(bins = 20)"
      ],
      "metadata": {
        "colab": {
          "base_uri": "https://localhost:8080/",
          "height": 453
        },
        "id": "dIraRam3WrCZ",
        "outputId": "444e4e65-f20c-40af-fde4-3bae11d292e8"
      },
      "execution_count": 26,
      "outputs": [
        {
          "output_type": "execute_result",
          "data": {
            "text/plain": [
              "<Axes: >"
            ]
          },
          "metadata": {},
          "execution_count": 26
        },
        {
          "output_type": "display_data",
          "data": {
            "text/plain": [
              "<Figure size 640x480 with 1 Axes>"
            ],
            "image/png": "[encoded data removed]"
          },
          "metadata": {}
        }
      ]
    },
    {
      "cell_type": "code",
      "source": [
        "# 이상치 식별을 위한 IQR 계산\n",
        "Q1 = merged_data['Temperature'].quantile(0.25)\n",
        "Q3 = merged_data['Temperature'].quantile(0.75)\n",
        "IQR = Q3 - Q1\n",
        "\n",
        "# 이상치 식별\n",
        "threshold = 1.5  # 이상치로 간주할 IQR의 범위\n",
        "lower_bound = Q1 - threshold * IQR\n",
        "upper_bound = Q3 + threshold * IQR\n",
        "\n",
        "outliers = merged_data[(merged_data['Temperature'] < lower_bound) | (merged_data['Temperature'] > upper_bound)]\n",
        "print(\"이상치:\", outliers)\n",
        "\n",
        "# 이상치 제거\n",
        "merged_data = merged_data[~((merged_data['Temperature'] < lower_bound) | (merged_data['Temperature'] > upper_bound))]\n",
        "\n",
        "# 결과 출력\n",
        "print(\"제거 후 데이터:\")\n",
        "print(merged_data)"
      ],
      "metadata": {
        "colab": {
          "base_uri": "https://localhost:8080/"
        },
        "id": "ozCqXtg1W0JZ",
        "outputId": "69fe3f3d-5c4f-46c2-e334-82e46d0a9e45"
      },
      "execution_count": 27,
      "outputs": [
        {
          "output_type": "stream",
          "name": "stdout",
          "text": [
            "이상치: Empty DataFrame\n",
            "Columns: [ID, Hour, Temperature, Humidity, Wind speed, Visibility, Dew point temperature, Solar Radiation, Rainfall, Snowfall, Seasons_Autumn, Seasons_Spring, Seasons_Summer, Seasons_Winter, Holiday, Functional Hours, Rented Bike Count]\n",
            "Index: []\n",
            "제거 후 데이터:\n",
            "        ID  Hour  Temperature  Humidity  Wind speed  Visibility  \\\n",
            "0        0     6        -15.7        29         2.5        2000   \n",
            "1        1    15          6.8        50         4.1         660   \n",
            "2        2     6          1.1        66         0.9        1550   \n",
            "3        3    11          6.0        66         0.9         573   \n",
            "4        4    17         18.2        43         2.3        1925   \n",
            "...    ...   ...          ...       ...         ...         ...   \n",
            "7003  7003    18         -7.8        32         4.5        2000   \n",
            "7004  7004     0         25.9        76         1.3         984   \n",
            "7005  7005     5         18.1        73         0.5        1182   \n",
            "7006  7006     7         14.1        69         1.1        1692   \n",
            "7007  7007    18         33.7        62         3.2        1082   \n",
            "\n",
            "      Dew point temperature  Solar Radiation  Rainfall  Snowfall  \\\n",
            "0                     -29.7             0.00       0.0       0.9   \n",
            "1                      -2.9             0.56       0.0       0.0   \n",
            "2                      -4.5             0.00       0.0       0.0   \n",
            "3                       0.1             1.37       0.0       2.3   \n",
            "4                       5.4             0.68       0.0       0.0   \n",
            "...                     ...              ...       ...       ...   \n",
            "7003                  -21.6             0.02       0.0       0.0   \n",
            "7004                   21.3             0.00       0.0       0.0   \n",
            "7005                   13.1             0.00       0.0       0.0   \n",
            "7006                    8.4             0.00       0.0       0.0   \n",
            "7007                   25.3             0.87       0.0       0.0   \n",
            "\n",
            "      Seasons_Autumn  Seasons_Spring  Seasons_Summer  Seasons_Winter  Holiday  \\\n",
            "0                0.0             0.0             0.0             1.0      0.0   \n",
            "1                0.0             1.0             0.0             0.0      0.0   \n",
            "2                0.0             0.0             0.0             1.0      0.0   \n",
            "3                1.0             0.0             0.0             0.0      0.0   \n",
            "4                1.0             0.0             0.0             0.0      0.0   \n",
            "...              ...             ...             ...             ...      ...   \n",
            "7003             0.0             0.0             0.0             1.0      0.0   \n",
            "7004             0.0             0.0             1.0             0.0      0.0   \n",
            "7005             0.0             0.0             1.0             0.0      0.0   \n",
            "7006             0.0             1.0             0.0             0.0      0.0   \n",
            "7007             0.0             0.0             1.0             0.0      0.0   \n",
            "\n",
            "      Functional Hours  Rented Bike Count  \n",
            "0                  1.0                 71  \n",
            "1                  1.0                545  \n",
            "2                  1.0                108  \n",
            "3                  1.0                522  \n",
            "4                  1.0               1990  \n",
            "...                ...                ...  \n",
            "7003               1.0                437  \n",
            "7004               1.0               1068  \n",
            "7005               1.0                282  \n",
            "7006               1.0                786  \n",
            "7007               1.0               2183  \n",
            "\n",
            "[7008 rows x 17 columns]\n"
          ]
        }
      ]
    },
    {
      "cell_type": "markdown",
      "source": [
        "#####Humidity"
      ],
      "metadata": {
        "id": "sojFc5BaXJwF"
      }
    },
    {
      "cell_type": "code",
      "source": [
        "merged_data['Humidity'].hist()"
      ],
      "metadata": {
        "colab": {
          "base_uri": "https://localhost:8080/",
          "height": 448
        },
        "outputId": "97f14ea9-0b1e-48c6-f8af-1912a3df8a48",
        "id": "mp5Y-4Q-XJwG"
      },
      "execution_count": 28,
      "outputs": [
        {
          "output_type": "execute_result",
          "data": {
            "text/plain": [
              "<Axes: >"
            ]
          },
          "metadata": {},
          "execution_count": 28
        },
        {
          "output_type": "display_data",
          "data": {
            "text/plain": [
              "<Figure size 640x480 with 1 Axes>"
            ],
            "image/png": "[encoded data removed]"
          },
          "metadata": {}
        }
      ]
    },
    {
      "cell_type": "code",
      "source": [
        "merged_data['Humidity'].hist(bins = 20)"
      ],
      "metadata": {
        "colab": {
          "base_uri": "https://localhost:8080/",
          "height": 448
        },
        "outputId": "8dbf79ce-5406-41f3-869a-bc8c774b67a5",
        "id": "R9zbiD9XXJwH"
      },
      "execution_count": 29,
      "outputs": [
        {
          "output_type": "execute_result",
          "data": {
            "text/plain": [
              "<Axes: >"
            ]
          },
          "metadata": {},
          "execution_count": 29
        },
        {
          "output_type": "display_data",
          "data": {
            "text/plain": [
              "<Figure size 640x480 with 1 Axes>"
            ],
            "image/png": "[encoded data removed]"
          },
          "metadata": {}
        }
      ]
    },
    {
      "cell_type": "code",
      "source": [
        "# 이상치 식별을 위한 IQR 계산\n",
        "Q1 = merged_data['Humidity'].quantile(0.25)\n",
        "Q3 = merged_data['Humidity'].quantile(0.75)\n",
        "IQR = Q3 - Q1\n",
        "\n",
        "# 이상치 식별\n",
        "threshold = 1.5  # 이상치로 간주할 IQR의 범위\n",
        "lower_bound = Q1 - threshold * IQR\n",
        "upper_bound = Q3 + threshold * IQR\n",
        "\n",
        "outliers = merged_data[(merged_data['Humidity'] < lower_bound) | (merged_data['Humidity'] > upper_bound)]\n",
        "print(\"이상치:\", outliers)\n",
        "\n",
        "# 이상치 제거\n",
        "merged_data = merged_data[~((merged_data['Humidity'] < lower_bound) | (merged_data['Humidity'] > upper_bound))]\n",
        "\n",
        "# 결과 출력\n",
        "print(\"제거 후 데이터:\")\n",
        "print(merged_data)"
      ],
      "metadata": {
        "colab": {
          "base_uri": "https://localhost:8080/"
        },
        "outputId": "f868520e-7259-4f50-d9cd-a31941740fce",
        "id": "5kOP5f6rXJwI"
      },
      "execution_count": 30,
      "outputs": [
        {
          "output_type": "stream",
          "name": "stdout",
          "text": [
            "이상치: Empty DataFrame\n",
            "Columns: [ID, Hour, Temperature, Humidity, Wind speed, Visibility, Dew point temperature, Solar Radiation, Rainfall, Snowfall, Seasons_Autumn, Seasons_Spring, Seasons_Summer, Seasons_Winter, Holiday, Functional Hours, Rented Bike Count]\n",
            "Index: []\n",
            "제거 후 데이터:\n",
            "        ID  Hour  Temperature  Humidity  Wind speed  Visibility  \\\n",
            "0        0     6        -15.7        29         2.5        2000   \n",
            "1        1    15          6.8        50         4.1         660   \n",
            "2        2     6          1.1        66         0.9        1550   \n",
            "3        3    11          6.0        66         0.9         573   \n",
            "4        4    17         18.2        43         2.3        1925   \n",
            "...    ...   ...          ...       ...         ...         ...   \n",
            "7003  7003    18         -7.8        32         4.5        2000   \n",
            "7004  7004     0         25.9        76         1.3         984   \n",
            "7005  7005     5         18.1        73         0.5        1182   \n",
            "7006  7006     7         14.1        69         1.1        1692   \n",
            "7007  7007    18         33.7        62         3.2        1082   \n",
            "\n",
            "      Dew point temperature  Solar Radiation  Rainfall  Snowfall  \\\n",
            "0                     -29.7             0.00       0.0       0.9   \n",
            "1                      -2.9             0.56       0.0       0.0   \n",
            "2                      -4.5             0.00       0.0       0.0   \n",
            "3                       0.1             1.37       0.0       2.3   \n",
            "4                       5.4             0.68       0.0       0.0   \n",
            "...                     ...              ...       ...       ...   \n",
            "7003                  -21.6             0.02       0.0       0.0   \n",
            "7004                   21.3             0.00       0.0       0.0   \n",
            "7005                   13.1             0.00       0.0       0.0   \n",
            "7006                    8.4             0.00       0.0       0.0   \n",
            "7007                   25.3             0.87       0.0       0.0   \n",
            "\n",
            "      Seasons_Autumn  Seasons_Spring  Seasons_Summer  Seasons_Winter  Holiday  \\\n",
            "0                0.0             0.0             0.0             1.0      0.0   \n",
            "1                0.0             1.0             0.0             0.0      0.0   \n",
            "2                0.0             0.0             0.0             1.0      0.0   \n",
            "3                1.0             0.0             0.0             0.0      0.0   \n",
            "4                1.0             0.0             0.0             0.0      0.0   \n",
            "...              ...             ...             ...             ...      ...   \n",
            "7003             0.0             0.0             0.0             1.0      0.0   \n",
            "7004             0.0             0.0             1.0             0.0      0.0   \n",
            "7005             0.0             0.0             1.0             0.0      0.0   \n",
            "7006             0.0             1.0             0.0             0.0      0.0   \n",
            "7007             0.0             0.0             1.0             0.0      0.0   \n",
            "\n",
            "      Functional Hours  Rented Bike Count  \n",
            "0                  1.0                 71  \n",
            "1                  1.0                545  \n",
            "2                  1.0                108  \n",
            "3                  1.0                522  \n",
            "4                  1.0               1990  \n",
            "...                ...                ...  \n",
            "7003               1.0                437  \n",
            "7004               1.0               1068  \n",
            "7005               1.0                282  \n",
            "7006               1.0                786  \n",
            "7007               1.0               2183  \n",
            "\n",
            "[7008 rows x 17 columns]\n"
          ]
        }
      ]
    },
    {
      "cell_type": "markdown",
      "source": [
        "#####Wind speed"
      ],
      "metadata": {
        "id": "b214pWVsXmWE"
      }
    },
    {
      "cell_type": "code",
      "source": [
        "merged_data['Wind speed'].hist()"
      ],
      "metadata": {
        "colab": {
          "base_uri": "https://localhost:8080/",
          "height": 448
        },
        "outputId": "c233b7c7-fad5-424f-d041-659637996103",
        "id": "Dao3Ib9AXmWR"
      },
      "execution_count": 31,
      "outputs": [
        {
          "output_type": "execute_result",
          "data": {
            "text/plain": [
              "<Axes: >"
            ]
          },
          "metadata": {},
          "execution_count": 31
        },
        {
          "output_type": "display_data",
          "data": {
            "text/plain": [
              "<Figure size 640x480 with 1 Axes>"
            ],
            "image/png": "[encoded data removed]"
          },
          "metadata": {}
        }
      ]
    },
    {
      "cell_type": "code",
      "source": [
        "merged_data['Wind speed'].hist(bins = 20)"
      ],
      "metadata": {
        "colab": {
          "base_uri": "https://localhost:8080/",
          "height": 448
        },
        "outputId": "dd92305b-1717-4cd2-95d4-00a1b732fc04",
        "id": "O3y22_b4XmWS"
      },
      "execution_count": 32,
      "outputs": [
        {
          "output_type": "execute_result",
          "data": {
            "text/plain": [
              "<Axes: >"
            ]
          },
          "metadata": {},
          "execution_count": 32
        },
        {
          "output_type": "display_data",
          "data": {
            "text/plain": [
              "<Figure size 640x480 with 1 Axes>"
            ],
            "image/png": "[encoded data removed]"
          },
          "metadata": {}
        }
      ]
    },
    {
      "cell_type": "code",
      "source": [
        "# 이상치 식별을 위한 IQR 계산\n",
        "Q1 = merged_data['Wind speed'].quantile(0.25)\n",
        "Q3 = merged_data['Wind speed'].quantile(0.75)\n",
        "IQR = Q3 - Q1\n",
        "\n",
        "# 이상치 식별\n",
        "threshold = 1.5  # 이상치로 간주할 IQR의 범위\n",
        "lower_bound = Q1 - threshold * IQR\n",
        "upper_bound = Q3 + threshold * IQR\n",
        "\n",
        "outliers = merged_data[(merged_data['Wind speed'] < lower_bound) | (merged_data['Wind speed'] > upper_bound)]\n",
        "print(\"이상치:\", outliers)\n",
        "\n",
        "# 이상치 제거\n",
        "merged_data = merged_data[~((merged_data['Wind speed'] < lower_bound) | (merged_data['Wind speed'] > upper_bound))]\n",
        "\n",
        "# 결과 출력\n",
        "print(\"제거 후 데이터:\")\n",
        "print(merged_data)"
      ],
      "metadata": {
        "colab": {
          "base_uri": "https://localhost:8080/"
        },
        "outputId": "71404b0a-14c5-4d3d-c711-3a48ce657792",
        "id": "Wfp3qCvjXmWS"
      },
      "execution_count": 33,
      "outputs": [
        {
          "output_type": "stream",
          "name": "stdout",
          "text": [
            "이상치:         ID  Hour  Temperature  Humidity  Wind speed  Visibility  \\\n",
            "21      21    21         17.5        70         7.3        1634   \n",
            "158    158    19         19.2        55         5.8        2000   \n",
            "183    183    23         28.5        62         4.9        1882   \n",
            "238    238    12         17.9        32         4.6        1874   \n",
            "318    318    22         -1.0        56         4.7        2000   \n",
            "...    ...   ...          ...       ...         ...         ...   \n",
            "6858  6858    16         20.4        25         4.7        1990   \n",
            "6867  6867    16         23.2        30         4.5        1787   \n",
            "6889  6889    15         28.1        53         4.5        1953   \n",
            "6896  6896    14          1.7        20         4.4        1995   \n",
            "7003  7003    18         -7.8        32         4.5        2000   \n",
            "\n",
            "      Dew point temperature  Solar Radiation  Rainfall  Snowfall  \\\n",
            "21                     11.9             0.00       0.5       0.0   \n",
            "158                     9.9             0.01       0.0       0.0   \n",
            "183                    20.5             0.00       0.0       0.0   \n",
            "238                     0.9             3.28       0.0       0.0   \n",
            "318                    -8.6             0.00       0.0       0.0   \n",
            "...                     ...              ...       ...       ...   \n",
            "6858                   -0.3             2.45       0.0       0.0   \n",
            "6867                    4.6             1.49       0.0       0.0   \n",
            "6889                   17.6             1.60       0.0       0.0   \n",
            "6896                  -18.9             0.91       0.0       0.0   \n",
            "7003                  -21.6             0.02       0.0       0.0   \n",
            "\n",
            "      Seasons_Autumn  Seasons_Spring  Seasons_Summer  Seasons_Winter  Holiday  \\\n",
            "21               0.0             1.0             0.0             0.0      0.0   \n",
            "158              0.0             1.0             0.0             0.0      0.0   \n",
            "183              0.0             0.0             1.0             0.0      0.0   \n",
            "238              0.0             1.0             0.0             0.0      0.0   \n",
            "318              0.0             0.0             0.0             1.0      0.0   \n",
            "...              ...             ...             ...             ...      ...   \n",
            "6858             0.0             1.0             0.0             0.0      0.0   \n",
            "6867             0.0             1.0             0.0             0.0      0.0   \n",
            "6889             0.0             0.0             1.0             0.0      0.0   \n",
            "6896             0.0             0.0             0.0             1.0      0.0   \n",
            "7003             0.0             0.0             0.0             1.0      0.0   \n",
            "\n",
            "      Functional Hours  Rented Bike Count  \n",
            "21                 1.0                133  \n",
            "158                1.0               1153  \n",
            "183                1.0               1241  \n",
            "238                1.0               1206  \n",
            "318                1.0                152  \n",
            "...                ...                ...  \n",
            "6858               1.0               1945  \n",
            "6867               1.0               1223  \n",
            "6889               1.0               1516  \n",
            "6896               1.0                302  \n",
            "7003               1.0                437  \n",
            "\n",
            "[127 rows x 17 columns]\n",
            "제거 후 데이터:\n",
            "        ID  Hour  Temperature  Humidity  Wind speed  Visibility  \\\n",
            "0        0     6        -15.7        29         2.5        2000   \n",
            "1        1    15          6.8        50         4.1         660   \n",
            "2        2     6          1.1        66         0.9        1550   \n",
            "3        3    11          6.0        66         0.9         573   \n",
            "4        4    17         18.2        43         2.3        1925   \n",
            "...    ...   ...          ...       ...         ...         ...   \n",
            "7002  7002    23         12.9        78         0.6        1201   \n",
            "7004  7004     0         25.9        76         1.3         984   \n",
            "7005  7005     5         18.1        73         0.5        1182   \n",
            "7006  7006     7         14.1        69         1.1        1692   \n",
            "7007  7007    18         33.7        62         3.2        1082   \n",
            "\n",
            "      Dew point temperature  Solar Radiation  Rainfall  Snowfall  \\\n",
            "0                     -29.7             0.00       0.0       0.9   \n",
            "1                      -2.9             0.56       0.0       0.0   \n",
            "2                      -4.5             0.00       0.0       0.0   \n",
            "3                       0.1             1.37       0.0       2.3   \n",
            "4                       5.4             0.68       0.0       0.0   \n",
            "...                     ...              ...       ...       ...   \n",
            "7002                    9.1             0.00       0.0       0.0   \n",
            "7004                   21.3             0.00       0.0       0.0   \n",
            "7005                   13.1             0.00       0.0       0.0   \n",
            "7006                    8.4             0.00       0.0       0.0   \n",
            "7007                   25.3             0.87       0.0       0.0   \n",
            "\n",
            "      Seasons_Autumn  Seasons_Spring  Seasons_Summer  Seasons_Winter  Holiday  \\\n",
            "0                0.0             0.0             0.0             1.0      0.0   \n",
            "1                0.0             1.0             0.0             0.0      0.0   \n",
            "2                0.0             0.0             0.0             1.0      0.0   \n",
            "3                1.0             0.0             0.0             0.0      0.0   \n",
            "4                1.0             0.0             0.0             0.0      0.0   \n",
            "...              ...             ...             ...             ...      ...   \n",
            "7002             1.0             0.0             0.0             0.0      0.0   \n",
            "7004             0.0             0.0             1.0             0.0      0.0   \n",
            "7005             0.0             0.0             1.0             0.0      0.0   \n",
            "7006             0.0             1.0             0.0             0.0      0.0   \n",
            "7007             0.0             0.0             1.0             0.0      0.0   \n",
            "\n",
            "      Functional Hours  Rented Bike Count  \n",
            "0                  1.0                 71  \n",
            "1                  1.0                545  \n",
            "2                  1.0                108  \n",
            "3                  1.0                522  \n",
            "4                  1.0               1990  \n",
            "...                ...                ...  \n",
            "7002               1.0                950  \n",
            "7004               1.0               1068  \n",
            "7005               1.0                282  \n",
            "7006               1.0                786  \n",
            "7007               1.0               2183  \n",
            "\n",
            "[6881 rows x 17 columns]\n"
          ]
        }
      ]
    },
    {
      "cell_type": "markdown",
      "source": [
        "#####Visibility"
      ],
      "metadata": {
        "id": "BIoJxc6vXmqu"
      }
    },
    {
      "cell_type": "code",
      "source": [
        "merged_data['Visibility'].hist()"
      ],
      "metadata": {
        "colab": {
          "base_uri": "https://localhost:8080/",
          "height": 448
        },
        "outputId": "a37ce6f4-cb11-429a-ad78-447dfd82e6df",
        "id": "N_GyrlHEXmqu"
      },
      "execution_count": 34,
      "outputs": [
        {
          "output_type": "execute_result",
          "data": {
            "text/plain": [
              "<Axes: >"
            ]
          },
          "metadata": {},
          "execution_count": 34
        },
        {
          "output_type": "display_data",
          "data": {
            "text/plain": [
              "<Figure size 640x480 with 1 Axes>"
            ],
            "image/png": "[encoded data removed]"
          },
          "metadata": {}
        }
      ]
    },
    {
      "cell_type": "code",
      "source": [
        "merged_data['Visibility'].hist(bins = 20)"
      ],
      "metadata": {
        "colab": {
          "base_uri": "https://localhost:8080/",
          "height": 448
        },
        "outputId": "6b828635-c983-441f-94f5-d1ca8ef8456a",
        "id": "bWIAF157Xmqv"
      },
      "execution_count": 35,
      "outputs": [
        {
          "output_type": "execute_result",
          "data": {
            "text/plain": [
              "<Axes: >"
            ]
          },
          "metadata": {},
          "execution_count": 35
        },
        {
          "output_type": "display_data",
          "data": {
            "text/plain": [
              "<Figure size 640x480 with 1 Axes>"
            ],
            "image/png": "[encoded data removed]"
          },
          "metadata": {}
        }
      ]
    },
    {
      "cell_type": "code",
      "source": [
        "# 이상치 식별을 위한 IQR 계산\n",
        "Q1 = merged_data['Visibility'].quantile(0.25)\n",
        "Q3 = merged_data['Visibility'].quantile(0.75)\n",
        "IQR = Q3 - Q1\n",
        "\n",
        "# 이상치 식별\n",
        "threshold = 1.5  # 이상치로 간주할 IQR의 범위\n",
        "lower_bound = Q1 - threshold * IQR\n",
        "upper_bound = Q3 + threshold * IQR\n",
        "\n",
        "outliers = merged_data[(merged_data['Visibility'] < lower_bound) | (merged_data['Visibility'] > upper_bound)]\n",
        "print(\"이상치:\", outliers)\n",
        "\n",
        "# 이상치 제거\n",
        "merged_data = merged_data[~((merged_data['Visibility'] < lower_bound) | (merged_data['Visibility'] > upper_bound))]\n",
        "\n",
        "# 결과 출력\n",
        "print(\"제거 후 데이터:\")\n",
        "print(merged_data)"
      ],
      "metadata": {
        "colab": {
          "base_uri": "https://localhost:8080/"
        },
        "outputId": "822b9baa-644d-4ac0-b14b-a749d0dc6f73",
        "id": "2kOHZm9mXmqv"
      },
      "execution_count": 36,
      "outputs": [
        {
          "output_type": "stream",
          "name": "stdout",
          "text": [
            "이상치: Empty DataFrame\n",
            "Columns: [ID, Hour, Temperature, Humidity, Wind speed, Visibility, Dew point temperature, Solar Radiation, Rainfall, Snowfall, Seasons_Autumn, Seasons_Spring, Seasons_Summer, Seasons_Winter, Holiday, Functional Hours, Rented Bike Count]\n",
            "Index: []\n",
            "제거 후 데이터:\n",
            "        ID  Hour  Temperature  Humidity  Wind speed  Visibility  \\\n",
            "0        0     6        -15.7        29         2.5        2000   \n",
            "1        1    15          6.8        50         4.1         660   \n",
            "2        2     6          1.1        66         0.9        1550   \n",
            "3        3    11          6.0        66         0.9         573   \n",
            "4        4    17         18.2        43         2.3        1925   \n",
            "...    ...   ...          ...       ...         ...         ...   \n",
            "7002  7002    23         12.9        78         0.6        1201   \n",
            "7004  7004     0         25.9        76         1.3         984   \n",
            "7005  7005     5         18.1        73         0.5        1182   \n",
            "7006  7006     7         14.1        69         1.1        1692   \n",
            "7007  7007    18         33.7        62         3.2        1082   \n",
            "\n",
            "      Dew point temperature  Solar Radiation  Rainfall  Snowfall  \\\n",
            "0                     -29.7             0.00       0.0       0.9   \n",
            "1                      -2.9             0.56       0.0       0.0   \n",
            "2                      -4.5             0.00       0.0       0.0   \n",
            "3                       0.1             1.37       0.0       2.3   \n",
            "4                       5.4             0.68       0.0       0.0   \n",
            "...                     ...              ...       ...       ...   \n",
            "7002                    9.1             0.00       0.0       0.0   \n",
            "7004                   21.3             0.00       0.0       0.0   \n",
            "7005                   13.1             0.00       0.0       0.0   \n",
            "7006                    8.4             0.00       0.0       0.0   \n",
            "7007                   25.3             0.87       0.0       0.0   \n",
            "\n",
            "      Seasons_Autumn  Seasons_Spring  Seasons_Summer  Seasons_Winter  Holiday  \\\n",
            "0                0.0             0.0             0.0             1.0      0.0   \n",
            "1                0.0             1.0             0.0             0.0      0.0   \n",
            "2                0.0             0.0             0.0             1.0      0.0   \n",
            "3                1.0             0.0             0.0             0.0      0.0   \n",
            "4                1.0             0.0             0.0             0.0      0.0   \n",
            "...              ...             ...             ...             ...      ...   \n",
            "7002             1.0             0.0             0.0             0.0      0.0   \n",
            "7004             0.0             0.0             1.0             0.0      0.0   \n",
            "7005             0.0             0.0             1.0             0.0      0.0   \n",
            "7006             0.0             1.0             0.0             0.0      0.0   \n",
            "7007             0.0             0.0             1.0             0.0      0.0   \n",
            "\n",
            "      Functional Hours  Rented Bike Count  \n",
            "0                  1.0                 71  \n",
            "1                  1.0                545  \n",
            "2                  1.0                108  \n",
            "3                  1.0                522  \n",
            "4                  1.0               1990  \n",
            "...                ...                ...  \n",
            "7002               1.0                950  \n",
            "7004               1.0               1068  \n",
            "7005               1.0                282  \n",
            "7006               1.0                786  \n",
            "7007               1.0               2183  \n",
            "\n",
            "[6881 rows x 17 columns]\n"
          ]
        }
      ]
    },
    {
      "cell_type": "markdown",
      "source": [
        "#####Dew point temperature"
      ],
      "metadata": {
        "id": "sohFdVbLXnvo"
      }
    },
    {
      "cell_type": "code",
      "source": [
        "merged_data['Dew point temperature'].hist()"
      ],
      "metadata": {
        "colab": {
          "base_uri": "https://localhost:8080/",
          "height": 448
        },
        "outputId": "81bbd6bd-325c-404f-93d7-a008993e0b3d",
        "id": "iuqUQPu2Xnv5"
      },
      "execution_count": 37,
      "outputs": [
        {
          "output_type": "execute_result",
          "data": {
            "text/plain": [
              "<Axes: >"
            ]
          },
          "metadata": {},
          "execution_count": 37
        },
        {
          "output_type": "display_data",
          "data": {
            "text/plain": [
              "<Figure size 640x480 with 1 Axes>"
            ],
            "image/png": "[encoded data removed]"
          },
          "metadata": {}
        }
      ]
    },
    {
      "cell_type": "code",
      "source": [
        "merged_data['Dew point temperature'].hist(bins = 20)"
      ],
      "metadata": {
        "colab": {
          "base_uri": "https://localhost:8080/",
          "height": 448
        },
        "outputId": "d80d86b7-323a-4a25-9c0a-39b5010e61fa",
        "id": "OFdhRVHxXnv6"
      },
      "execution_count": 38,
      "outputs": [
        {
          "output_type": "execute_result",
          "data": {
            "text/plain": [
              "<Axes: >"
            ]
          },
          "metadata": {},
          "execution_count": 38
        },
        {
          "output_type": "display_data",
          "data": {
            "text/plain": [
              "<Figure size 640x480 with 1 Axes>"
            ],
            "image/png": "[encoded data removed]"
          },
          "metadata": {}
        }
      ]
    },
    {
      "cell_type": "code",
      "source": [
        "# 이상치 식별을 위한 IQR 계산\n",
        "Q1 = merged_data['Dew point temperature'].quantile(0.25)\n",
        "Q3 = merged_data['Dew point temperature'].quantile(0.75)\n",
        "IQR = Q3 - Q1\n",
        "\n",
        "# 이상치 식별\n",
        "threshold = 1.5  # 이상치로 간주할 IQR의 범위\n",
        "lower_bound = Q1 - threshold * IQR\n",
        "upper_bound = Q3 + threshold * IQR\n",
        "\n",
        "outliers = merged_data[(merged_data['Dew point temperature'] < lower_bound) | (merged_data['Dew point temperature'] > upper_bound)]\n",
        "print(\"이상치:\", outliers)\n",
        "\n",
        "# 이상치 제거\n",
        "merged_data = merged_data[~((merged_data['Dew point temperature'] < lower_bound) | (merged_data['Dew point temperature'] > upper_bound))]\n",
        "\n",
        "# 결과 출력\n",
        "print(\"제거 후 데이터:\")\n",
        "print(merged_data)"
      ],
      "metadata": {
        "colab": {
          "base_uri": "https://localhost:8080/"
        },
        "outputId": "7c036eed-73d0-4e90-cb95-e66ec21f0e6c",
        "id": "O2fQTwgAXnv6"
      },
      "execution_count": 39,
      "outputs": [
        {
          "output_type": "stream",
          "name": "stdout",
          "text": [
            "이상치: Empty DataFrame\n",
            "Columns: [ID, Hour, Temperature, Humidity, Wind speed, Visibility, Dew point temperature, Solar Radiation, Rainfall, Snowfall, Seasons_Autumn, Seasons_Spring, Seasons_Summer, Seasons_Winter, Holiday, Functional Hours, Rented Bike Count]\n",
            "Index: []\n",
            "제거 후 데이터:\n",
            "        ID  Hour  Temperature  Humidity  Wind speed  Visibility  \\\n",
            "0        0     6        -15.7        29         2.5        2000   \n",
            "1        1    15          6.8        50         4.1         660   \n",
            "2        2     6          1.1        66         0.9        1550   \n",
            "3        3    11          6.0        66         0.9         573   \n",
            "4        4    17         18.2        43         2.3        1925   \n",
            "...    ...   ...          ...       ...         ...         ...   \n",
            "7002  7002    23         12.9        78         0.6        1201   \n",
            "7004  7004     0         25.9        76         1.3         984   \n",
            "7005  7005     5         18.1        73         0.5        1182   \n",
            "7006  7006     7         14.1        69         1.1        1692   \n",
            "7007  7007    18         33.7        62         3.2        1082   \n",
            "\n",
            "      Dew point temperature  Solar Radiation  Rainfall  Snowfall  \\\n",
            "0                     -29.7             0.00       0.0       0.9   \n",
            "1                      -2.9             0.56       0.0       0.0   \n",
            "2                      -4.5             0.00       0.0       0.0   \n",
            "3                       0.1             1.37       0.0       2.3   \n",
            "4                       5.4             0.68       0.0       0.0   \n",
            "...                     ...              ...       ...       ...   \n",
            "7002                    9.1             0.00       0.0       0.0   \n",
            "7004                   21.3             0.00       0.0       0.0   \n",
            "7005                   13.1             0.00       0.0       0.0   \n",
            "7006                    8.4             0.00       0.0       0.0   \n",
            "7007                   25.3             0.87       0.0       0.0   \n",
            "\n",
            "      Seasons_Autumn  Seasons_Spring  Seasons_Summer  Seasons_Winter  Holiday  \\\n",
            "0                0.0             0.0             0.0             1.0      0.0   \n",
            "1                0.0             1.0             0.0             0.0      0.0   \n",
            "2                0.0             0.0             0.0             1.0      0.0   \n",
            "3                1.0             0.0             0.0             0.0      0.0   \n",
            "4                1.0             0.0             0.0             0.0      0.0   \n",
            "...              ...             ...             ...             ...      ...   \n",
            "7002             1.0             0.0             0.0             0.0      0.0   \n",
            "7004             0.0             0.0             1.0             0.0      0.0   \n",
            "7005             0.0             0.0             1.0             0.0      0.0   \n",
            "7006             0.0             1.0             0.0             0.0      0.0   \n",
            "7007             0.0             0.0             1.0             0.0      0.0   \n",
            "\n",
            "      Functional Hours  Rented Bike Count  \n",
            "0                  1.0                 71  \n",
            "1                  1.0                545  \n",
            "2                  1.0                108  \n",
            "3                  1.0                522  \n",
            "4                  1.0               1990  \n",
            "...                ...                ...  \n",
            "7002               1.0                950  \n",
            "7004               1.0               1068  \n",
            "7005               1.0                282  \n",
            "7006               1.0                786  \n",
            "7007               1.0               2183  \n",
            "\n",
            "[6881 rows x 17 columns]\n"
          ]
        }
      ]
    },
    {
      "cell_type": "markdown",
      "source": [
        "#####Solar Radiation"
      ],
      "metadata": {
        "id": "NJWCcXM1Xn0N"
      }
    },
    {
      "cell_type": "code",
      "source": [
        "merged_data['Solar Radiation'].hist()"
      ],
      "metadata": {
        "colab": {
          "base_uri": "https://localhost:8080/",
          "height": 448
        },
        "outputId": "cac6180c-f0db-42c8-e8f1-91b693bf3832",
        "id": "Ohy5TJw6Xn0N"
      },
      "execution_count": 40,
      "outputs": [
        {
          "output_type": "execute_result",
          "data": {
            "text/plain": [
              "<Axes: >"
            ]
          },
          "metadata": {},
          "execution_count": 40
        },
        {
          "output_type": "display_data",
          "data": {
            "text/plain": [
              "<Figure size 640x480 with 1 Axes>"
            ],
            "image/png": "[encoded data removed]"
          },
          "metadata": {}
        }
      ]
    },
    {
      "cell_type": "code",
      "source": [
        "merged_data['Solar Radiation'].hist(bins = 20)"
      ],
      "metadata": {
        "colab": {
          "base_uri": "https://localhost:8080/",
          "height": 448
        },
        "outputId": "70ea00f0-e163-42d0-8373-e72d9ffbebed",
        "id": "stxS87IpXn0O"
      },
      "execution_count": 41,
      "outputs": [
        {
          "output_type": "execute_result",
          "data": {
            "text/plain": [
              "<Axes: >"
            ]
          },
          "metadata": {},
          "execution_count": 41
        },
        {
          "output_type": "display_data",
          "data": {
            "text/plain": [
              "<Figure size 640x480 with 1 Axes>"
            ],
            "image/png": "[encoded data removed]"
          },
          "metadata": {}
        }
      ]
    },
    {
      "cell_type": "code",
      "source": [
        "# 이상치 식별을 위한 IQR 계산\n",
        "Q1 = merged_data['Solar Radiation'].quantile(0.25)\n",
        "Q3 = merged_data['Solar Radiation'].quantile(0.75)\n",
        "IQR = Q3 - Q1\n",
        "\n",
        "# 이상치 식별\n",
        "threshold = 1.5  # 이상치로 간주할 IQR의 범위\n",
        "lower_bound = Q1 - threshold * IQR\n",
        "upper_bound = Q3 + threshold * IQR\n",
        "\n",
        "outliers = merged_data[(merged_data['Solar Radiation'] < lower_bound) | (merged_data['Solar Radiation'] > upper_bound)]\n",
        "print(\"이상치:\", outliers)\n",
        "\n",
        "# 이상치 제거\n",
        "merged_data = merged_data[~((merged_data['Solar Radiation'] < lower_bound) | (merged_data['Solar Radiation'] > upper_bound))]\n",
        "\n",
        "# 결과 출력\n",
        "print(\"제거 후 데이터:\")\n",
        "print(merged_data)"
      ],
      "metadata": {
        "colab": {
          "base_uri": "https://localhost:8080/"
        },
        "outputId": "93dbfd18-af6e-4e32-eeb2-11d62123388d",
        "id": "idN_TG4ZXn0O"
      },
      "execution_count": 42,
      "outputs": [
        {
          "output_type": "stream",
          "name": "stdout",
          "text": [
            "이상치:         ID  Hour  Temperature  Humidity  Wind speed  Visibility  \\\n",
            "11      11    13         22.8        31         1.9        1923   \n",
            "17      17    11         25.5        57         1.8         943   \n",
            "30      30    13         37.9        38         2.3        1868   \n",
            "45      45    16         18.8        23         4.2        1956   \n",
            "77      77    11         32.9        45         2.1        1020   \n",
            "...    ...   ...          ...       ...         ...         ...   \n",
            "6931  6931    13         29.4        48         1.9        1942   \n",
            "6936  6936    13         34.4        48         2.1        1921   \n",
            "6955  6955    11         35.8        41         1.6        1795   \n",
            "6976  6976    13         33.0        56         3.5        1857   \n",
            "6977  6977    16         39.4        39         2.5        1897   \n",
            "\n",
            "      Dew point temperature  Solar Radiation  Rainfall  Snowfall  \\\n",
            "11                      4.7             3.49       0.0       0.0   \n",
            "17                     16.3             3.01       0.0       0.0   \n",
            "30                     21.1             3.05       0.0       0.0   \n",
            "45                     -2.7             2.39       0.0       0.0   \n",
            "77                     19.3             2.72       0.0       0.0   \n",
            "...                     ...              ...       ...       ...   \n",
            "6931                   17.2             2.88       0.0       0.0   \n",
            "6936                   21.7             2.37       0.0       0.0   \n",
            "6955                   20.4             2.77       0.0       0.0   \n",
            "6976                   23.0             2.68       0.0       0.0   \n",
            "6977                   22.8             2.42       0.0       0.0   \n",
            "\n",
            "      Seasons_Autumn  Seasons_Spring  Seasons_Summer  Seasons_Winter  Holiday  \\\n",
            "11               0.0             1.0             0.0             0.0      0.0   \n",
            "17               0.0             0.0             1.0             0.0      0.0   \n",
            "30               0.0             0.0             1.0             0.0      0.0   \n",
            "45               0.0             1.0             0.0             0.0      0.0   \n",
            "77               0.0             0.0             1.0             0.0      0.0   \n",
            "...              ...             ...             ...             ...      ...   \n",
            "6931             1.0             0.0             0.0             0.0      0.0   \n",
            "6936             0.0             0.0             1.0             0.0      0.0   \n",
            "6955             0.0             0.0             1.0             0.0      0.0   \n",
            "6976             0.0             0.0             1.0             0.0      0.0   \n",
            "6977             0.0             0.0             1.0             0.0      0.0   \n",
            "\n",
            "      Functional Hours  Rented Bike Count  \n",
            "11                 1.0               1456  \n",
            "17                 1.0               1066  \n",
            "30                 1.0                533  \n",
            "45                 1.0               1273  \n",
            "77                 1.0                676  \n",
            "...                ...                ...  \n",
            "6931               1.0               1303  \n",
            "6936               1.0                673  \n",
            "6955               1.0                521  \n",
            "6976               1.0                600  \n",
            "6977               1.0                561  \n",
            "\n",
            "[536 rows x 17 columns]\n",
            "제거 후 데이터:\n",
            "        ID  Hour  Temperature  Humidity  Wind speed  Visibility  \\\n",
            "0        0     6        -15.7        29         2.5        2000   \n",
            "1        1    15          6.8        50         4.1         660   \n",
            "2        2     6          1.1        66         0.9        1550   \n",
            "3        3    11          6.0        66         0.9         573   \n",
            "4        4    17         18.2        43         2.3        1925   \n",
            "...    ...   ...          ...       ...         ...         ...   \n",
            "7002  7002    23         12.9        78         0.6        1201   \n",
            "7004  7004     0         25.9        76         1.3         984   \n",
            "7005  7005     5         18.1        73         0.5        1182   \n",
            "7006  7006     7         14.1        69         1.1        1692   \n",
            "7007  7007    18         33.7        62         3.2        1082   \n",
            "\n",
            "      Dew point temperature  Solar Radiation  Rainfall  Snowfall  \\\n",
            "0                     -29.7             0.00       0.0       0.9   \n",
            "1                      -2.9             0.56       0.0       0.0   \n",
            "2                      -4.5             0.00       0.0       0.0   \n",
            "3                       0.1             1.37       0.0       2.3   \n",
            "4                       5.4             0.68       0.0       0.0   \n",
            "...                     ...              ...       ...       ...   \n",
            "7002                    9.1             0.00       0.0       0.0   \n",
            "7004                   21.3             0.00       0.0       0.0   \n",
            "7005                   13.1             0.00       0.0       0.0   \n",
            "7006                    8.4             0.00       0.0       0.0   \n",
            "7007                   25.3             0.87       0.0       0.0   \n",
            "\n",
            "      Seasons_Autumn  Seasons_Spring  Seasons_Summer  Seasons_Winter  Holiday  \\\n",
            "0                0.0             0.0             0.0             1.0      0.0   \n",
            "1                0.0             1.0             0.0             0.0      0.0   \n",
            "2                0.0             0.0             0.0             1.0      0.0   \n",
            "3                1.0             0.0             0.0             0.0      0.0   \n",
            "4                1.0             0.0             0.0             0.0      0.0   \n",
            "...              ...             ...             ...             ...      ...   \n",
            "7002             1.0             0.0             0.0             0.0      0.0   \n",
            "7004             0.0             0.0             1.0             0.0      0.0   \n",
            "7005             0.0             0.0             1.0             0.0      0.0   \n",
            "7006             0.0             1.0             0.0             0.0      0.0   \n",
            "7007             0.0             0.0             1.0             0.0      0.0   \n",
            "\n",
            "      Functional Hours  Rented Bike Count  \n",
            "0                  1.0                 71  \n",
            "1                  1.0                545  \n",
            "2                  1.0                108  \n",
            "3                  1.0                522  \n",
            "4                  1.0               1990  \n",
            "...                ...                ...  \n",
            "7002               1.0                950  \n",
            "7004               1.0               1068  \n",
            "7005               1.0                282  \n",
            "7006               1.0                786  \n",
            "7007               1.0               2183  \n",
            "\n",
            "[6345 rows x 17 columns]\n"
          ]
        }
      ]
    },
    {
      "cell_type": "markdown",
      "source": [
        "##### Rainfall"
      ],
      "metadata": {
        "id": "tPEgTJ4J-qu4"
      }
    },
    {
      "cell_type": "code",
      "source": [
        "merged_data['Rainfall'].hist()"
      ],
      "metadata": {
        "colab": {
          "base_uri": "https://localhost:8080/",
          "height": 448
        },
        "id": "-qYgTejc2w92",
        "outputId": "81a3fcb1-c859-414f-f346-546920359702"
      },
      "execution_count": 43,
      "outputs": [
        {
          "output_type": "execute_result",
          "data": {
            "text/plain": [
              "<Axes: >"
            ]
          },
          "metadata": {},
          "execution_count": 43
        },
        {
          "output_type": "display_data",
          "data": {
            "text/plain": [
              "<Figure size 640x480 with 1 Axes>"
            ],
            "image/png": "[encoded data removed]"
          },
          "metadata": {}
        }
      ]
    },
    {
      "cell_type": "code",
      "source": [
        "merged_data['Rainfall'].hist(bins = 20)"
      ],
      "metadata": {
        "colab": {
          "base_uri": "https://localhost:8080/",
          "height": 448
        },
        "id": "w_aVBzZb8_Tw",
        "outputId": "5aa15393-580f-47bb-d478-f21fe76f29cf"
      },
      "execution_count": 44,
      "outputs": [
        {
          "output_type": "execute_result",
          "data": {
            "text/plain": [
              "<Axes: >"
            ]
          },
          "metadata": {},
          "execution_count": 44
        },
        {
          "output_type": "display_data",
          "data": {
            "text/plain": [
              "<Figure size 640x480 with 1 Axes>"
            ],
            "image/png": "[encoded data removed]"
          },
          "metadata": {}
        }
      ]
    },
    {
      "cell_type": "code",
      "source": [
        "# 이상치 식별을 위한 IQR 계산\n",
        "Q1 = merged_data['Rainfall'].quantile(0.25)\n",
        "Q3 = merged_data['Rainfall'].quantile(0.75)\n",
        "IQR = Q3 - Q1\n",
        "\n",
        "# 이상치 식별\n",
        "threshold = 2.5  # 이상치로 간주할 IQR의 범위\n",
        "lower_bound = Q1 - threshold * IQR\n",
        "upper_bound = Q3 + threshold * IQR\n",
        "\n",
        "outliers = merged_data[(merged_data['Rainfall'] < lower_bound) | (merged_data['Rainfall'] > upper_bound)]\n",
        "print(\"이상치:\", outliers)\n",
        "\n",
        "# 이상치 제거\n",
        "merged_data = merged_data[~((merged_data['Rainfall'] < lower_bound) | (merged_data['Rainfall'] > upper_bound))]\n",
        "\n",
        "# 결과 출력\n",
        "print(\"제거 후 데이터:\")\n",
        "print(merged_data)"
      ],
      "metadata": {
        "colab": {
          "base_uri": "https://localhost:8080/"
        },
        "id": "Q8hQlZwIJHOj",
        "outputId": "19161cb2-6d87-470c-fe04-a6726e762816"
      },
      "execution_count": 45,
      "outputs": [
        {
          "output_type": "stream",
          "name": "stdout",
          "text": [
            "이상치:         ID  Hour  Temperature  Humidity  Wind speed  Visibility  \\\n",
            "5        5    20         23.7        62         1.6        1402   \n",
            "27      27     6         22.3        93         0.6        1262   \n",
            "29      29     9          3.9        86         1.7         399   \n",
            "37      37    14         23.3        89         1.5        1435   \n",
            "48      48     9          8.8        97         1.3         196   \n",
            "...    ...   ...          ...       ...         ...         ...   \n",
            "6892  6892     3         16.2        94         1.7         400   \n",
            "6938  6938    19         25.7        83         1.1        1011   \n",
            "6958  6958     2         16.9        88         2.5        2000   \n",
            "6994  6994    18         15.4        97         1.9         340   \n",
            "6998  6998    16         22.2        97         1.1        1745   \n",
            "\n",
            "      Dew point temperature  Solar Radiation  Rainfall  Snowfall  \\\n",
            "5                      15.9             0.00       0.4       0.0   \n",
            "27                     21.1             0.01       0.4       0.0   \n",
            "29                      1.7             0.11       0.2       0.0   \n",
            "37                     21.3             1.23       0.5       0.0   \n",
            "48                      8.3             0.20       0.2       0.0   \n",
            "...                     ...              ...       ...       ...   \n",
            "6892                   15.2             0.00       1.5       0.0   \n",
            "6938                   22.5             0.08       0.5       0.0   \n",
            "6958                   14.8             0.00       1.5       0.0   \n",
            "6994                   14.9             0.03       2.0       0.0   \n",
            "6998                   21.6             0.25       1.0       0.0   \n",
            "\n",
            "      Seasons_Autumn  Seasons_Spring  Seasons_Summer  Seasons_Winter  Holiday  \\\n",
            "5                0.0             0.0             1.0             0.0      0.0   \n",
            "27               0.0             0.0             1.0             0.0      0.0   \n",
            "29               0.0             0.0             0.0             1.0      0.0   \n",
            "37               0.0             0.0             1.0             0.0      0.0   \n",
            "48               0.0             1.0             0.0             0.0      0.0   \n",
            "...              ...             ...             ...             ...      ...   \n",
            "6892             0.0             1.0             0.0             0.0      0.0   \n",
            "6938             0.0             0.0             1.0             0.0      0.0   \n",
            "6958             1.0             0.0             0.0             0.0      0.0   \n",
            "6994             0.0             1.0             0.0             0.0      0.0   \n",
            "6998             0.0             0.0             1.0             0.0      0.0   \n",
            "\n",
            "      Functional Hours  Rented Bike Count  \n",
            "5                  1.0                246  \n",
            "27                 1.0                 60  \n",
            "29                 1.0                303  \n",
            "37                 1.0                231  \n",
            "48                 1.0                157  \n",
            "...                ...                ...  \n",
            "6892               1.0                 43  \n",
            "6938               1.0                794  \n",
            "6958               0.0                  0  \n",
            "6994               1.0                 22  \n",
            "6998               1.0                 41  \n",
            "\n",
            "[422 rows x 17 columns]\n",
            "제거 후 데이터:\n",
            "        ID  Hour  Temperature  Humidity  Wind speed  Visibility  \\\n",
            "0        0     6        -15.7        29         2.5        2000   \n",
            "1        1    15          6.8        50         4.1         660   \n",
            "2        2     6          1.1        66         0.9        1550   \n",
            "3        3    11          6.0        66         0.9         573   \n",
            "4        4    17         18.2        43         2.3        1925   \n",
            "...    ...   ...          ...       ...         ...         ...   \n",
            "7002  7002    23         12.9        78         0.6        1201   \n",
            "7004  7004     0         25.9        76         1.3         984   \n",
            "7005  7005     5         18.1        73         0.5        1182   \n",
            "7006  7006     7         14.1        69         1.1        1692   \n",
            "7007  7007    18         33.7        62         3.2        1082   \n",
            "\n",
            "      Dew point temperature  Solar Radiation  Rainfall  Snowfall  \\\n",
            "0                     -29.7             0.00       0.0       0.9   \n",
            "1                      -2.9             0.56       0.0       0.0   \n",
            "2                      -4.5             0.00       0.0       0.0   \n",
            "3                       0.1             1.37       0.0       2.3   \n",
            "4                       5.4             0.68       0.0       0.0   \n",
            "...                     ...              ...       ...       ...   \n",
            "7002                    9.1             0.00       0.0       0.0   \n",
            "7004                   21.3             0.00       0.0       0.0   \n",
            "7005                   13.1             0.00       0.0       0.0   \n",
            "7006                    8.4             0.00       0.0       0.0   \n",
            "7007                   25.3             0.87       0.0       0.0   \n",
            "\n",
            "      Seasons_Autumn  Seasons_Spring  Seasons_Summer  Seasons_Winter  Holiday  \\\n",
            "0                0.0             0.0             0.0             1.0      0.0   \n",
            "1                0.0             1.0             0.0             0.0      0.0   \n",
            "2                0.0             0.0             0.0             1.0      0.0   \n",
            "3                1.0             0.0             0.0             0.0      0.0   \n",
            "4                1.0             0.0             0.0             0.0      0.0   \n",
            "...              ...             ...             ...             ...      ...   \n",
            "7002             1.0             0.0             0.0             0.0      0.0   \n",
            "7004             0.0             0.0             1.0             0.0      0.0   \n",
            "7005             0.0             0.0             1.0             0.0      0.0   \n",
            "7006             0.0             1.0             0.0             0.0      0.0   \n",
            "7007             0.0             0.0             1.0             0.0      0.0   \n",
            "\n",
            "      Functional Hours  Rented Bike Count  \n",
            "0                  1.0                 71  \n",
            "1                  1.0                545  \n",
            "2                  1.0                108  \n",
            "3                  1.0                522  \n",
            "4                  1.0               1990  \n",
            "...                ...                ...  \n",
            "7002               1.0                950  \n",
            "7004               1.0               1068  \n",
            "7005               1.0                282  \n",
            "7006               1.0                786  \n",
            "7007               1.0               2183  \n",
            "\n",
            "[5923 rows x 17 columns]\n"
          ]
        }
      ]
    },
    {
      "cell_type": "code",
      "source": [
        "merged_data['Rainfall'].hist(bins = 20)"
      ],
      "metadata": {
        "colab": {
          "base_uri": "https://localhost:8080/",
          "height": 448
        },
        "id": "V102-4WDMHBX",
        "outputId": "16963327-0029-4dc6-deee-936784419ba0"
      },
      "execution_count": 46,
      "outputs": [
        {
          "output_type": "execute_result",
          "data": {
            "text/plain": [
              "<Axes: >"
            ]
          },
          "metadata": {},
          "execution_count": 46
        },
        {
          "output_type": "display_data",
          "data": {
            "text/plain": [
              "<Figure size 640x480 with 1 Axes>"
            ],
            "image/png": "[encoded data removed]"
          },
          "metadata": {}
        }
      ]
    },
    {
      "cell_type": "markdown",
      "source": [
        "##### Snowfall"
      ],
      "metadata": {
        "id": "EeFeZKys-tGG"
      }
    },
    {
      "cell_type": "code",
      "source": [
        "plt.hist(merged_data['Snowfall'])\n",
        "plt.show()"
      ],
      "metadata": {
        "colab": {
          "base_uri": "https://localhost:8080/",
          "height": 433
        },
        "id": "4Z8lqS18-22p",
        "outputId": "0de0b680-1921-4a36-ab6a-6c2779dc18b8"
      },
      "execution_count": 47,
      "outputs": [
        {
          "output_type": "display_data",
          "data": {
            "text/plain": [
              "<Figure size 640x480 with 1 Axes>"
            ],
            "image/png": "[encoded data removed]"
          },
          "metadata": {}
        }
      ]
    },
    {
      "cell_type": "code",
      "source": [
        "merged_data['Snowfall'].hist(bins = 20)"
      ],
      "metadata": {
        "colab": {
          "base_uri": "https://localhost:8080/",
          "height": 448
        },
        "id": "CfQsI5oq_CrM",
        "outputId": "763d29d7-90ea-40e0-844a-158c7fbaa2db"
      },
      "execution_count": 48,
      "outputs": [
        {
          "output_type": "execute_result",
          "data": {
            "text/plain": [
              "<Axes: >"
            ]
          },
          "metadata": {},
          "execution_count": 48
        },
        {
          "output_type": "display_data",
          "data": {
            "text/plain": [
              "<Figure size 640x480 with 1 Axes>"
            ],
            "image/png": "[encoded data removed]"
          },
          "metadata": {}
        }
      ]
    },
    {
      "cell_type": "code",
      "source": [
        "# 이상치 식별을 위한 IQR 계산\n",
        "Q1 = merged_data['Snowfall'].quantile(0.25)\n",
        "Q3 = merged_data['Snowfall'].quantile(0.75)\n",
        "IQR = Q3 - Q1\n",
        "\n",
        "# 이상치 식별\n",
        "threshold = 2.5  # 이상치로 간주할 IQR의 범위\n",
        "lower_bound = Q1 - threshold * IQR\n",
        "upper_bound = Q3 + threshold * IQR\n",
        "\n",
        "outliers = merged_data[(merged_data['Snowfall'] < lower_bound) | (merged_data['Snowfall'] > upper_bound)]\n",
        "print(\"이상치:\", outliers)\n",
        "\n",
        "# 이상치 제거\n",
        "merged_data = merged_data[~((merged_data['Snowfall'] < lower_bound) | (merged_data['Snowfall'] > upper_bound))]\n",
        "\n",
        "# 결과 출력\n",
        "print(\"제거 후 데이터:\")\n",
        "print(merged_data)"
      ],
      "metadata": {
        "colab": {
          "base_uri": "https://localhost:8080/"
        },
        "id": "OCvv9CcdU924",
        "outputId": "51fe35f3-189a-4078-e49b-57b4b5b7d4aa"
      },
      "execution_count": 49,
      "outputs": [
        {
          "output_type": "stream",
          "name": "stdout",
          "text": [
            "이상치:         ID  Hour  Temperature  Humidity  Wind speed  Visibility  \\\n",
            "0        0     6        -15.7        29         2.5        2000   \n",
            "3        3    11          6.0        66         0.9         573   \n",
            "49      49     7        -17.5        38         3.4        2000   \n",
            "70      70    10          0.5        91         0.4         143   \n",
            "101    101    14          3.0        82         1.7        1589   \n",
            "...    ...   ...          ...       ...         ...         ...   \n",
            "6874  6874    12        -12.2        26         4.0        2000   \n",
            "6921  6921     4         -3.6        91         1.2         241   \n",
            "6954  6954     8        -16.2        30         1.6        2000   \n",
            "6967  6967    14          4.2        85         0.7         325   \n",
            "6989  6989     9        -13.3        36         3.5        2000   \n",
            "\n",
            "      Dew point temperature  Solar Radiation  Rainfall  Snowfall  \\\n",
            "0                     -29.7             0.00       0.0       0.9   \n",
            "3                       0.1             1.37       0.0       2.3   \n",
            "49                    -28.4             0.00       0.0       0.5   \n",
            "70                     -0.8             0.00       0.0       4.3   \n",
            "101                     0.2             0.55       0.0       5.0   \n",
            "...                     ...              ...       ...       ...   \n",
            "6874                  -27.8             1.17       0.0       0.9   \n",
            "6921                   -4.8             0.00       0.0       2.2   \n",
            "6954                  -29.8             0.00       0.0       0.9   \n",
            "6967                    1.8             0.65       0.0       1.4   \n",
            "6989                  -25.2             0.19       0.0       1.0   \n",
            "\n",
            "      Seasons_Autumn  Seasons_Spring  Seasons_Summer  Seasons_Winter  Holiday  \\\n",
            "0                0.0             0.0             0.0             1.0      0.0   \n",
            "3                1.0             0.0             0.0             0.0      0.0   \n",
            "49               0.0             0.0             0.0             1.0      0.0   \n",
            "70               0.0             0.0             0.0             1.0      0.0   \n",
            "101              1.0             0.0             0.0             0.0      0.0   \n",
            "...              ...             ...             ...             ...      ...   \n",
            "6874             0.0             0.0             0.0             1.0      0.0   \n",
            "6921             0.0             0.0             0.0             1.0      0.0   \n",
            "6954             0.0             0.0             0.0             1.0      0.0   \n",
            "6967             0.0             0.0             0.0             1.0      0.0   \n",
            "6989             0.0             0.0             0.0             1.0      0.0   \n",
            "\n",
            "      Functional Hours  Rented Bike Count  \n",
            "0                  1.0                 71  \n",
            "3                  1.0                522  \n",
            "49                 1.0                142  \n",
            "70                 1.0                 19  \n",
            "101                1.0                298  \n",
            "...                ...                ...  \n",
            "6874               1.0                121  \n",
            "6921               1.0                 58  \n",
            "6954               1.0                364  \n",
            "6967               1.0                235  \n",
            "6989               1.0                228  \n",
            "\n",
            "[310 rows x 17 columns]\n",
            "제거 후 데이터:\n",
            "        ID  Hour  Temperature  Humidity  Wind speed  Visibility  \\\n",
            "1        1    15          6.8        50         4.1         660   \n",
            "2        2     6          1.1        66         0.9        1550   \n",
            "4        4    17         18.2        43         2.3        1925   \n",
            "6        6    14         -7.2        28         2.3        1990   \n",
            "7        7    19          8.7        78         2.5         460   \n",
            "...    ...   ...          ...       ...         ...         ...   \n",
            "7002  7002    23         12.9        78         0.6        1201   \n",
            "7004  7004     0         25.9        76         1.3         984   \n",
            "7005  7005     5         18.1        73         0.5        1182   \n",
            "7006  7006     7         14.1        69         1.1        1692   \n",
            "7007  7007    18         33.7        62         3.2        1082   \n",
            "\n",
            "      Dew point temperature  Solar Radiation  Rainfall  Snowfall  \\\n",
            "1                      -2.9             0.56       0.0       0.0   \n",
            "2                      -4.5             0.00       0.0       0.0   \n",
            "4                       5.4             0.68       0.0       0.0   \n",
            "6                     -22.6             1.14       0.0       0.0   \n",
            "7                       5.0             0.00       0.0       0.0   \n",
            "...                     ...              ...       ...       ...   \n",
            "7002                    9.1             0.00       0.0       0.0   \n",
            "7004                   21.3             0.00       0.0       0.0   \n",
            "7005                   13.1             0.00       0.0       0.0   \n",
            "7006                    8.4             0.00       0.0       0.0   \n",
            "7007                   25.3             0.87       0.0       0.0   \n",
            "\n",
            "      Seasons_Autumn  Seasons_Spring  Seasons_Summer  Seasons_Winter  Holiday  \\\n",
            "1                0.0             1.0             0.0             0.0      0.0   \n",
            "2                0.0             0.0             0.0             1.0      0.0   \n",
            "4                1.0             0.0             0.0             0.0      0.0   \n",
            "6                0.0             0.0             0.0             1.0      0.0   \n",
            "7                1.0             0.0             0.0             0.0      0.0   \n",
            "...              ...             ...             ...             ...      ...   \n",
            "7002             1.0             0.0             0.0             0.0      0.0   \n",
            "7004             0.0             0.0             1.0             0.0      0.0   \n",
            "7005             0.0             0.0             1.0             0.0      0.0   \n",
            "7006             0.0             1.0             0.0             0.0      0.0   \n",
            "7007             0.0             0.0             1.0             0.0      0.0   \n",
            "\n",
            "      Functional Hours  Rented Bike Count  \n",
            "1                  1.0                545  \n",
            "2                  1.0                108  \n",
            "4                  1.0               1990  \n",
            "6                  1.0                173  \n",
            "7                  1.0               1303  \n",
            "...                ...                ...  \n",
            "7002               1.0                950  \n",
            "7004               1.0               1068  \n",
            "7005               1.0                282  \n",
            "7006               1.0                786  \n",
            "7007               1.0               2183  \n",
            "\n",
            "[5613 rows x 17 columns]\n"
          ]
        }
      ]
    },
    {
      "cell_type": "code",
      "source": [
        "x_train = merged_data[['ID','Hour',  'Temperature', 'Humidity', 'Wind speed', 'Visibility', \n",
        "                      'Dew point temperature', 'Solar Radiation', 'Rainfall', 'Snowfall', \n",
        "                      'Seasons_Autumn', 'Seasons_Spring', 'Seasons_Summer', 'Seasons_Winter', 'Holiday', 'Functional Hours']]"
      ],
      "metadata": {
        "id": "0VQgemfNLDz5"
      },
      "execution_count": 50,
      "outputs": []
    },
    {
      "cell_type": "code",
      "source": [
        "y_train = merged_data['Rented Bike Count']"
      ],
      "metadata": {
        "id": "d-IaJUrnLJdZ"
      },
      "execution_count": 51,
      "outputs": []
    },
    {
      "cell_type": "markdown",
      "source": [
        "## EDA"
      ],
      "metadata": {
        "id": "6s-sVSt7Ha1t"
      }
    },
    {
      "cell_type": "code",
      "source": [
        "#dtale_app.USE_COLAB = True\n",
        "\n",
        "#dtale.show(x_train)"
      ],
      "metadata": {
        "id": "1ajKNbxKCLw1"
      },
      "execution_count": 52,
      "outputs": []
    },
    {
      "cell_type": "code",
      "source": [
        "#dtale.show(y_train)"
      ],
      "metadata": {
        "id": "asCM7GYcGDkZ"
      },
      "execution_count": 53,
      "outputs": []
    },
    {
      "cell_type": "code",
      "source": [
        "#dtale.show(merged_data)"
      ],
      "metadata": {
        "id": "ktYujcPfHmGZ"
      },
      "execution_count": 54,
      "outputs": []
    },
    {
      "cell_type": "code",
      "source": [
        "# 정규화 객체 생성\n",
        "#scaler = MinMaxScaler()"
      ],
      "metadata": {
        "id": "9QceXCSnRiZp"
      },
      "execution_count": 55,
      "outputs": []
    },
    {
      "cell_type": "code",
      "source": [
        "# 데이터 정규화\n",
        "#scaled_result = scaler.fit_transform(result)"
      ],
      "metadata": {
        "id": "AoxHn7-0Rvqk"
      },
      "execution_count": 56,
      "outputs": []
    },
    {
      "cell_type": "code",
      "source": [
        "#dtale.show(scaled_result)"
      ],
      "metadata": {
        "id": "JI9ombMbR4C4"
      },
      "execution_count": 186,
      "outputs": []
    },
    {
      "cell_type": "markdown",
      "source": [
        "# Modeling"
      ],
      "metadata": {
        "id": "HwzBfGCVbn_L"
      }
    },
    {
      "cell_type": "code",
      "source": [
        "# 학습 데이터와 테스트 데이터 분리\n",
        "x_trn, x_val, y_trn, y_val = train_test_split(x_train, y_train, test_size=0.2, random_state = 42)"
      ],
      "metadata": {
        "id": "01OlQ2F4cQXb"
      },
      "execution_count": 187,
      "outputs": []
    },
    {
      "cell_type": "code",
      "source": [
        "# 앙상블 모델 정의\n",
        "models = [\n",
        "    RandomForestRegressor(random_state=42),\n",
        "    GradientBoostingRegressor(random_state=42),\n",
        "    xgb.XGBRegressor(random_state=42),\n",
        "    lgb.LGBMRegressor(random_state=42)\n",
        "]\n",
        "\n",
        "# 각 모델 훈련 및 검증\n",
        "predictions = []\n",
        "for model in models:\n",
        "    model.fit(x_trn, y_trn)\n",
        "    pred = model.predict(x_val)\n",
        "    predictions.append(pred)\n",
        "\n",
        "# 앙상블 예측 (예시로 각 모델의 결과를 단순 평균)\n",
        "ensemble_pred = np.mean(predictions, axis=0)\n",
        "\n",
        "# 검증 데이터에 대한 RMSE 계산\n",
        "rmse = np.sqrt(mean_squared_error(y_val, ensemble_pred))\n",
        "print(\"Ensemble RMSE:\", rmse) "
      ],
      "metadata": {
        "id": "JNQlKYK8b78I",
        "colab": {
          "base_uri": "https://localhost:8080/"
        },
        "outputId": "af4229a9-e578-4bcc-f178-55c458f23b14"
      },
      "execution_count": 188,
      "outputs": [
        {
          "output_type": "stream",
          "name": "stdout",
          "text": [
            "Ensemble RMSE: 232.09967174845076\n"
          ]
        }
      ]
    },
    {
      "cell_type": "code",
      "source": [
        " x_train.shape"
      ],
      "metadata": {
        "colab": {
          "base_uri": "https://localhost:8080/"
        },
        "id": "z7MI6bVKK3oy",
        "outputId": "68f5e132-74ed-417d-eb94-60f1e25d890d"
      },
      "execution_count": 189,
      "outputs": [
        {
          "output_type": "execute_result",
          "data": {
            "text/plain": [
              "(5613, 16)"
            ]
          },
          "metadata": {},
          "execution_count": 189
        }
      ]
    },
    {
      "cell_type": "code",
      "source": [
        "y_train.shape"
      ],
      "metadata": {
        "colab": {
          "base_uri": "https://localhost:8080/"
        },
        "id": "fz2B7GYCGr4T",
        "outputId": "c10e3b6b-85ac-451c-d6ac-e5acd316f50c"
      },
      "execution_count": 190,
      "outputs": [
        {
          "output_type": "execute_result",
          "data": {
            "text/plain": [
              "(5613,)"
            ]
          },
          "metadata": {},
          "execution_count": 190
        }
      ]
    },
    {
      "cell_type": "code",
      "source": [
        "y_train"
      ],
      "metadata": {
        "colab": {
          "base_uri": "https://localhost:8080/"
        },
        "id": "H6Pv3ye1LY1n",
        "outputId": "e703a326-5075-43ba-9149-de608604d2e2"
      },
      "execution_count": 191,
      "outputs": [
        {
          "output_type": "execute_result",
          "data": {
            "text/plain": [
              "1        545\n",
              "2        108\n",
              "4       1990\n",
              "6        173\n",
              "7       1303\n",
              "        ... \n",
              "7002     950\n",
              "7004    1068\n",
              "7005     282\n",
              "7006     786\n",
              "7007    2183\n",
              "Name: Rented Bike Count, Length: 5613, dtype: int64"
            ]
          },
          "metadata": {},
          "execution_count": 191
        }
      ]
    },
    {
      "cell_type": "markdown",
      "source": [
        "# Submission"
      ],
      "metadata": {
        "id": "gRWrnLHccBAc"
      }
    },
    {
      "cell_type": "code",
      "source": [
        "print(y_train.shape)      # 데이터프레임의 크기 출력"
      ],
      "metadata": {
        "id": "Z6OD0SVW0BbE",
        "colab": {
          "base_uri": "https://localhost:8080/"
        },
        "outputId": "79787917-2b15-4f20-c643-3d7fb9e0f9b4"
      },
      "execution_count": 192,
      "outputs": [
        {
          "output_type": "stream",
          "name": "stdout",
          "text": [
            "(5613,)\n"
          ]
        }
      ]
    },
    {
      "cell_type": "code",
      "source": [
        "result = pd.DataFrame(ensemble_pred, columns=['Rented Bike Count'])\n",
        "result.index.name = 'ID'\n",
        "result.to_csv('submission.csv', index_label='ID')"
      ],
      "metadata": {
        "id": "tixqGWEAcFtM"
      },
      "execution_count": 194,
      "outputs": []
    },
    {
      "cell_type": "code",
      "source": [],
      "metadata": {
        "id": "ahhioamjTlLu"
      },
      "execution_count": null,
      "outputs": []
    }
  ]
}