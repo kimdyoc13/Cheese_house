{
 "cells": [
  {
   "cell_type": "code",
   "execution_count": 2,
   "metadata": {},
   "outputs": [
    {
     "name": "stdout",
     "output_type": "stream",
     "text": [
      "a 형태: (2, 3) \n",
      " [[0.77132064 0.02075195 0.63364823]\n",
      " [0.74880388 0.49850701 0.22479665]]\n",
      "b 형태: (3, 2) \n",
      " [[ 0.62133597 -0.72008556]\n",
      " [ 0.26551159  0.10854853]\n",
      " [ 0.00429143 -0.17460021]]\n",
      "c 형태: (2, 3) \n",
      " [[0.81262096 0.61252607 0.72175532]\n",
      " [0.29187607 0.91777412 0.71457578]]\n",
      "d 형태: (2, 3) \n",
      " [[14 26 14]\n",
      " [93 87 31]]\n",
      "다차원 객체 1차원 변환 방법\n",
      "a = [0.77132064 0.02075195 0.63364823 0.74880388 0.49850701 0.22479665]\n",
      "b = [ 0.62133597 -0.72008556  0.26551159  0.10854853  0.00429143 -0.17460021]\n",
      "c = [0.81262096 0.61252607 0.72175532 0.29187607 0.91777412 0.71457578]\n",
      "d = [14 26 14 93 87 31]\n"
     ]
    }
   ],
   "source": [
    "import numpy as np\n",
    "np.random.seed(10)  \n",
    "a = np.random.rand(2, 3)\n",
    "b = np.random.randn(3, 2)\n",
    "c = np.random.rand(6)\n",
    "d = np.random.randint(1, 100, 6)\n",
    "c = np.reshape(c, (2, 3))\n",
    "d= d.reshape(2, -1)\n",
    "\n",
    "print('a 형태:', a.shape, '\\n', a)\n",
    "print('b 형태:', b.shape, '\\n', b)\n",
    "print('c 형태:', c.shape, '\\n', c)\n",
    "print('d 형태:', d.shape, '\\n', d)\n",
    "\n",
    "print('다차원 객체 1차원 변환 방법')\n",
    "print('a =', a.flatten())\n",
    "print('b =', np.ravel(b))\n",
    "print('c =', np.reshape(c, (-1, )))\n",
    "print('d =', d.reshape(-1, ))"
   ]
  },
  {
   "cell_type": "code",
   "execution_count": null,
   "metadata": {},
   "outputs": [],
   "source": [
    "import cv2\n",
    "\n",
    "image = cv2.imread(\"\", cv2.IMREAD_COLOR)\n",
    "if image is None: raise Exception(\"영상 파일 읽기 오류 발생\")\n",
    "\n",
    "x_axis = cv2.flip(image, 0)\n",
    "y_axis = cv2.dlip(image, 1)\n",
    "xy_axis = cv2.dlip(image, -1) # -1 은 x축 y축 flip\n",
    "rep_image = cv2.repeat(image, 1, 2)\n",
    "trans_image = cv2.transpose(image)\n",
    "\n",
    "## 각 행렬을 영상으로 표시\n"
   ]
  }
 ],
 "metadata": {
  "kernelspec": {
   "display_name": "base",
   "language": "python",
   "name": "python3"
  },
  "language_info": {
   "codemirror_mode": {
    "name": "ipython",
    "version": 3
   },
   "file_extension": ".py",
   "mimetype": "text/x-python",
   "name": "python",
   "nbconvert_exporter": "python",
   "pygments_lexer": "ipython3",
   "version": "3.11.3"
  }
 },
 "nbformat": 4,
 "nbformat_minor": 2
}
