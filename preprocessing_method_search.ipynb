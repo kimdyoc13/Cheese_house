{
 "cells": [
  {
   "cell_type": "code",
   "execution_count": 8,
   "metadata": {},
   "outputs": [],
   "source": [
    "import pandas as pd\n",
    "import numpy as np\n",
    "import cv2\n",
    "import os\n",
    "import matplotlib.pyplot as plt\n"
   ]
  },
  {
   "cell_type": "code",
   "execution_count": 4,
   "metadata": {},
   "outputs": [],
   "source": [
    "org_image_path = 'C:/Users/jamos/OneDrive - UOU/2023-2 학기/융합 캡스톤 디자인 Ⅱ/CV/2023-uou-hd-dt-2-cv/train/1/'"
   ]
  },
  {
   "cell_type": "code",
   "execution_count": 5,
   "metadata": {},
   "outputs": [],
   "source": [
    "image_path = 'C:/Users/jamos/OneDrive - UOU/2023-2 학기/융합 캡스톤 디자인 Ⅱ/CV/2023-uou-hd-dt-2-cv/train/1/'"
   ]
  },
  {
   "cell_type": "code",
   "execution_count": 9,
   "metadata": {},
   "outputs": [],
   "source": [
    "processessing_image_dest = 'C:/Users/jamos/OneDrive - UOU/2023-2 학기/융합 캡스톤 디자인 Ⅱ/CV/2023-uou-hd-dt-2-cv/processing_image/train/1/'"
   ]
  },
  {
   "cell_type": "code",
   "execution_count": 10,
   "metadata": {},
   "outputs": [],
   "source": [
    "# 폴더 생성\n",
    "if not os.path.exists(processessing_image_dest):\n",
    "    os.makedirs(processessing_image_dest)"
   ]
  },
  {
   "cell_type": "code",
   "execution_count": 11,
   "metadata": {},
   "outputs": [],
   "source": [
    "processing_image_list = os.listdir(processessing_image_dest)"
   ]
  },
  {
   "cell_type": "code",
   "execution_count": 16,
   "metadata": {},
   "outputs": [],
   "source": [
    "# 빈 폴더 이미지 넣기\n",
    "for i in range(len(processing_image_list)):\n",
    "    \n",
    "    # 컬러로 읽기\n",
    "    image = cv2.imread(processessing_image_dest + processing_image_list[:10] )\n",
    "    \n",
    "    # normalized 진행\n",
    "    normalized_image = np.zeros_like(image)\n",
    "    norm = cv2.normalize(image, normalized_image, 0, 255, cv2.NORM_MINMAX, dtype = cv2.CV_8U)\n",
    "    \n",
    "    # 컬러로 저장\n",
    "    cv2.imwrite(processessing_image_dest + processing_image_list[:10], norm)\n",
    "    "
   ]
  },
  {
   "cell_type": "code",
   "execution_count": 17,
   "metadata": {},
   "outputs": [
    {
     "ename": "AttributeError",
     "evalue": "'list' object has no attribute 'take'",
     "output_type": "error",
     "traceback": [
      "\u001b[1;31m---------------------------------------------------------------------------\u001b[0m",
      "\u001b[1;31mAttributeError\u001b[0m                            Traceback (most recent call last)",
      "\u001b[1;32mc:\\Users\\jamos\\OneDrive - UOU\\2023-2 학기\\융합 캡스톤 디자인 Ⅱ\\CV\\code\\preprocessing_method_search.ipynb 셀 8\u001b[0m line \u001b[0;36m2\n\u001b[0;32m      <a href='vscode-notebook-cell:/c%3A/Users/jamos/OneDrive%20-%20UOU/2023-2%20%ED%95%99%EA%B8%B0/%EC%9C%B5%ED%95%A9%20%EC%BA%A1%EC%8A%A4%ED%86%A4%20%EB%94%94%EC%9E%90%EC%9D%B8%20%E2%85%A1/CV/code/preprocessing_method_search.ipynb#X14sZmlsZQ%3D%3D?line=0'>1</a>\u001b[0m plt\u001b[39m.\u001b[39mfigure(figsize \u001b[39m=\u001b[39m (\u001b[39m10\u001b[39m, \u001b[39m10\u001b[39m))\n\u001b[1;32m----> <a href='vscode-notebook-cell:/c%3A/Users/jamos/OneDrive%20-%20UOU/2023-2%20%ED%95%99%EA%B8%B0/%EC%9C%B5%ED%95%A9%20%EC%BA%A1%EC%8A%A4%ED%86%A4%20%EB%94%94%EC%9E%90%EC%9D%B8%20%E2%85%A1/CV/code/preprocessing_method_search.ipynb#X14sZmlsZQ%3D%3D?line=1'>2</a>\u001b[0m \u001b[39mfor\u001b[39;00m images, labels \u001b[39min\u001b[39;00m processing_image_list\u001b[39m.\u001b[39mtake(\u001b[39m1\u001b[39m):\n\u001b[0;32m      <a href='vscode-notebook-cell:/c%3A/Users/jamos/OneDrive%20-%20UOU/2023-2%20%ED%95%99%EA%B8%B0/%EC%9C%B5%ED%95%A9%20%EC%BA%A1%EC%8A%A4%ED%86%A4%20%EB%94%94%EC%9E%90%EC%9D%B8%20%E2%85%A1/CV/code/preprocessing_method_search.ipynb#X14sZmlsZQ%3D%3D?line=2'>3</a>\u001b[0m     \u001b[39mfor\u001b[39;00m i \u001b[39min\u001b[39;00m \u001b[39mrange\u001b[39m(\u001b[39m9\u001b[39m):\n\u001b[0;32m      <a href='vscode-notebook-cell:/c%3A/Users/jamos/OneDrive%20-%20UOU/2023-2%20%ED%95%99%EA%B8%B0/%EC%9C%B5%ED%95%A9%20%EC%BA%A1%EC%8A%A4%ED%86%A4%20%EB%94%94%EC%9E%90%EC%9D%B8%20%E2%85%A1/CV/code/preprocessing_method_search.ipynb#X14sZmlsZQ%3D%3D?line=3'>4</a>\u001b[0m         ax \u001b[39m=\u001b[39m plt\u001b[39m.\u001b[39msubplot(\u001b[39m3\u001b[39m, \u001b[39m3\u001b[39m, i \u001b[39m+\u001b[39m\u001b[39m1\u001b[39m)\n",
      "\u001b[1;31mAttributeError\u001b[0m: 'list' object has no attribute 'take'"
     ]
    },
    {
     "data": {
      "text/plain": [
       "<Figure size 1000x1000 with 0 Axes>"
      ]
     },
     "metadata": {},
     "output_type": "display_data"
    }
   ],
   "source": [
    "plt.figure(figsize = (10, 10))\n",
    "for images, labels in processing_image_list.take(1):\n",
    "    for i in range(9):\n",
    "        ax = plt.subplot(3, 3, i +1)\n",
    "        plt.imshow(images[i].numpy().astype(\"unit8\"))\n",
    "        plt.title(class_names[laabels[i]])\n",
    "        plt.axis(\"off\")"
   ]
  },
  {
   "cell_type": "code",
   "execution_count": null,
   "metadata": {},
   "outputs": [],
   "source": [
    "plt.imshow()"
   ]
  }
 ],
 "metadata": {
  "kernelspec": {
   "display_name": "base",
   "language": "python",
   "name": "python3"
  },
  "language_info": {
   "codemirror_mode": {
    "name": "ipython",
    "version": 3
   },
   "file_extension": ".py",
   "mimetype": "text/x-python",
   "name": "python",
   "nbconvert_exporter": "python",
   "pygments_lexer": "ipython3",
   "version": "3.11.3"
  }
 },
 "nbformat": 4,
 "nbformat_minor": 2
}
