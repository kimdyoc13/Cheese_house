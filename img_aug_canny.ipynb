{
 "cells": [
  {
   "cell_type": "code",
   "execution_count": 2,
   "metadata": {},
   "outputs": [],
   "source": [
    "import cv2\n",
    "import os\n",
    "import numpy as np\n",
    "import pandas as pd"
   ]
  },
  {
   "cell_type": "code",
   "execution_count": 3,
   "metadata": {},
   "outputs": [
    {
     "name": "stdout",
     "output_type": "stream",
     "text": [
      "7748 4623\n"
     ]
    }
   ],
   "source": [
    "import os\n",
    "import cv2\n",
    "\n",
    "# train 이미지 폴더 경로\n",
    "empty_folder = \"/home/Data/CV/train/0/\"\n",
    "loaded_folder = \"/home/Data/CV/train/1/\"\n",
    "\n",
    "empty_dest = \"/home/KDY/Data/train/0/\"\n",
    "empty_gray_dest = \"/home/KDY/control_Data/train/gray_0/\"  \n",
    "equalized_gray_dest = \"/home/KDY/control_Data/train/equalized_gray_0/\"  \n",
    "canny_dest = \"/home/KDY/control_Data/train/canny_0/\"  # Canny 결과를 저장할 경로\n",
    "\n",
    "# 폴더가 없다면 생성합니다.\n",
    "if not os.path.exists(empty_gray_dest):\n",
    "    os.makedirs(empty_gray_dest)\n",
    "if not os.path.exists(equalized_gray_dest):\n",
    "    os.makedirs(equalized_gray_dest)\n",
    "if not os.path.exists(canny_dest):  \n",
    "    os.makedirs(canny_dest)\n",
    "\n",
    "# 파일 목록을 리스트로\n",
    "empty_folder_list = os.listdir(empty_folder)\n",
    "loaded_folder_list = os.listdir(loaded_folder)\n",
    "print(len(empty_folder_list), len(loaded_folder_list))\n",
    "\n",
    "# 빈 수레 이미지 조회\n",
    "for i in range(len(empty_folder_list)):\n",
    "    # 이미지를 컬러로 읽기\n",
    "    image = cv2.imread(empty_folder + empty_folder_list[i])\n",
    "    \n",
    "    # 이미지를 흑백으로 읽기\n",
    "    gray_image = cv2.imread(empty_folder + empty_folder_list[i], cv2.IMREAD_GRAYSCALE)\n",
    "\n",
    "    # 흑백 이미지 저장\n",
    "    cv2.imwrite(empty_gray_dest + empty_folder_list[i], gray_image)\n",
    "    \n",
    "    threshold1 = 50\n",
    "    threshold2 = 150\n",
    "    edge_img = cv2.Canny(gray_image, threshold1, threshold2)\n",
    "    \n",
    "    # Canny 결과 저장\n",
    "    cv2.imwrite(canny_dest + empty_folder_list[i], edge_img)\n",
    "\n",
    "    \"\"\"\n",
    "    이 부분에 전처리를 취하면 전처리가 적용 된 이미지를 반환함\n",
    "    \"\"\"\n",
    "    normalized_image = np.zeros_like(image)\n",
    "    norm = cv2.normalize(image, normalized_image, 0, 255, cv2.NORM_MINMAX, dtype=cv2.CV_8U)\n",
    "\n",
    "    # 이미지 저장하기\n",
    "    cv2.imwrite(empty_dest + empty_folder_list[i], norm)\n"
   ]
  },
  {
   "cell_type": "code",
   "execution_count": null,
   "metadata": {},
   "outputs": [],
   "source": []
  }
 ],
 "metadata": {
  "kernelspec": {
   "display_name": "Python 3",
   "language": "python",
   "name": "python3"
  },
  "language_info": {
   "codemirror_mode": {
    "name": "ipython",
    "version": 3
   },
   "file_extension": ".py",
   "mimetype": "text/x-python",
   "name": "python",
   "nbconvert_exporter": "python",
   "pygments_lexer": "ipython3",
   "version": "3.8.10"
  },
  "orig_nbformat": 4
 },
 "nbformat": 4,
 "nbformat_minor": 2
}
